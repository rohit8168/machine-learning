{
 "cells": [
  {
   "cell_type": "code",
   "execution_count": 21,
   "id": "bf4afcd2",
   "metadata": {},
   "outputs": [],
   "source": [
    "from  sklearn.datasets import load_iris\n",
    "from sklearn.tree import DecisionTreeClassifier\n",
    "import matplotlib.pyplot as plt\n",
    "from sklearn.model_selection import train_test_split "
   ]
  },
  {
   "cell_type": "code",
   "execution_count": 11,
   "id": "6349f571",
   "metadata": {},
   "outputs": [],
   "source": [
    "data=load_iris()\n",
    "x=data.data[:,2:]\n",
    "y=data.target\n"
   ]
  },
  {
   "cell_type": "code",
   "execution_count": 12,
   "id": "ae2adb2f",
   "metadata": {},
   "outputs": [
    {
     "data": {
      "text/html": [
       "<style>#sk-container-id-2 {color: black;}#sk-container-id-2 pre{padding: 0;}#sk-container-id-2 div.sk-toggleable {background-color: white;}#sk-container-id-2 label.sk-toggleable__label {cursor: pointer;display: block;width: 100%;margin-bottom: 0;padding: 0.3em;box-sizing: border-box;text-align: center;}#sk-container-id-2 label.sk-toggleable__label-arrow:before {content: \"▸\";float: left;margin-right: 0.25em;color: #696969;}#sk-container-id-2 label.sk-toggleable__label-arrow:hover:before {color: black;}#sk-container-id-2 div.sk-estimator:hover label.sk-toggleable__label-arrow:before {color: black;}#sk-container-id-2 div.sk-toggleable__content {max-height: 0;max-width: 0;overflow: hidden;text-align: left;background-color: #f0f8ff;}#sk-container-id-2 div.sk-toggleable__content pre {margin: 0.2em;color: black;border-radius: 0.25em;background-color: #f0f8ff;}#sk-container-id-2 input.sk-toggleable__control:checked~div.sk-toggleable__content {max-height: 200px;max-width: 100%;overflow: auto;}#sk-container-id-2 input.sk-toggleable__control:checked~label.sk-toggleable__label-arrow:before {content: \"▾\";}#sk-container-id-2 div.sk-estimator input.sk-toggleable__control:checked~label.sk-toggleable__label {background-color: #d4ebff;}#sk-container-id-2 div.sk-label input.sk-toggleable__control:checked~label.sk-toggleable__label {background-color: #d4ebff;}#sk-container-id-2 input.sk-hidden--visually {border: 0;clip: rect(1px 1px 1px 1px);clip: rect(1px, 1px, 1px, 1px);height: 1px;margin: -1px;overflow: hidden;padding: 0;position: absolute;width: 1px;}#sk-container-id-2 div.sk-estimator {font-family: monospace;background-color: #f0f8ff;border: 1px dotted black;border-radius: 0.25em;box-sizing: border-box;margin-bottom: 0.5em;}#sk-container-id-2 div.sk-estimator:hover {background-color: #d4ebff;}#sk-container-id-2 div.sk-parallel-item::after {content: \"\";width: 100%;border-bottom: 1px solid gray;flex-grow: 1;}#sk-container-id-2 div.sk-label:hover label.sk-toggleable__label {background-color: #d4ebff;}#sk-container-id-2 div.sk-serial::before {content: \"\";position: absolute;border-left: 1px solid gray;box-sizing: border-box;top: 0;bottom: 0;left: 50%;z-index: 0;}#sk-container-id-2 div.sk-serial {display: flex;flex-direction: column;align-items: center;background-color: white;padding-right: 0.2em;padding-left: 0.2em;position: relative;}#sk-container-id-2 div.sk-item {position: relative;z-index: 1;}#sk-container-id-2 div.sk-parallel {display: flex;align-items: stretch;justify-content: center;background-color: white;position: relative;}#sk-container-id-2 div.sk-item::before, #sk-container-id-2 div.sk-parallel-item::before {content: \"\";position: absolute;border-left: 1px solid gray;box-sizing: border-box;top: 0;bottom: 0;left: 50%;z-index: -1;}#sk-container-id-2 div.sk-parallel-item {display: flex;flex-direction: column;z-index: 1;position: relative;background-color: white;}#sk-container-id-2 div.sk-parallel-item:first-child::after {align-self: flex-end;width: 50%;}#sk-container-id-2 div.sk-parallel-item:last-child::after {align-self: flex-start;width: 50%;}#sk-container-id-2 div.sk-parallel-item:only-child::after {width: 0;}#sk-container-id-2 div.sk-dashed-wrapped {border: 1px dashed gray;margin: 0 0.4em 0.5em 0.4em;box-sizing: border-box;padding-bottom: 0.4em;background-color: white;}#sk-container-id-2 div.sk-label label {font-family: monospace;font-weight: bold;display: inline-block;line-height: 1.2em;}#sk-container-id-2 div.sk-label-container {text-align: center;}#sk-container-id-2 div.sk-container {/* jupyter's `normalize.less` sets `[hidden] { display: none; }` but bootstrap.min.css set `[hidden] { display: none !important; }` so we also need the `!important` here to be able to override the default hidden behavior on the sphinx rendered scikit-learn.org. See: https://github.com/scikit-learn/scikit-learn/issues/21755 */display: inline-block !important;position: relative;}#sk-container-id-2 div.sk-text-repr-fallback {display: none;}</style><div id=\"sk-container-id-2\" class=\"sk-top-container\"><div class=\"sk-text-repr-fallback\"><pre>DecisionTreeClassifier()</pre><b>In a Jupyter environment, please rerun this cell to show the HTML representation or trust the notebook. <br />On GitHub, the HTML representation is unable to render, please try loading this page with nbviewer.org.</b></div><div class=\"sk-container\" hidden><div class=\"sk-item\"><div class=\"sk-estimator sk-toggleable\"><input class=\"sk-toggleable__control sk-hidden--visually\" id=\"sk-estimator-id-2\" type=\"checkbox\" checked><label for=\"sk-estimator-id-2\" class=\"sk-toggleable__label sk-toggleable__label-arrow\">DecisionTreeClassifier</label><div class=\"sk-toggleable__content\"><pre>DecisionTreeClassifier()</pre></div></div></div></div></div>"
      ],
      "text/plain": [
       "DecisionTreeClassifier()"
      ]
     },
     "execution_count": 12,
     "metadata": {},
     "output_type": "execute_result"
    }
   ],
   "source": [
    "tree_clf=DecisionTreeClassifier()\n",
    "tree_clf.fit(x,y)"
   ]
  },
  {
   "cell_type": "code",
   "execution_count": 13,
   "id": "27326f16",
   "metadata": {},
   "outputs": [],
   "source": [
    "#visualization\n",
    "from sklearn.tree import export_graphviz\n",
    "dot=data=export_graphviz(tree_clf,out_file=None\n",
    "               ,feature_names=data.feature_names[2:],\n",
    "               class_names=data.target_names,\n",
    "               rounded=True,\n",
    "               filled=True)"
   ]
  },
  {
   "cell_type": "code",
   "execution_count": 14,
   "id": "a9f53dc0",
   "metadata": {},
   "outputs": [
    {
     "data": {
      "text/plain": [
       "array([[1., 0., 0.]])"
      ]
     },
     "execution_count": 14,
     "metadata": {},
     "output_type": "execute_result"
    }
   ],
   "source": [
    "tree_clf.predict_proba([[1.4,0.2]])"
   ]
  },
  {
   "cell_type": "code",
   "execution_count": 15,
   "id": "2b91ca1c",
   "metadata": {},
   "outputs": [],
   "source": [
    "import pydotplus\n",
    "import graphviz"
   ]
  },
  {
   "cell_type": "code",
   "execution_count": 16,
   "id": "9c0c4713",
   "metadata": {},
   "outputs": [],
   "source": [
    "from IPython.display import Image\n",
    "graph=graphviz.Source(dot)"
   ]
  },
  {
   "cell_type": "code",
   "execution_count": 17,
   "id": "bf6a294d",
   "metadata": {},
   "outputs": [
    {
     "data": {
      "text/plain": [
       "'data.pdf'"
      ]
     },
     "execution_count": 17,
     "metadata": {},
     "output_type": "execute_result"
    }
   ],
   "source": [
    "graph.render('data')"
   ]
  },
  {
   "cell_type": "code",
   "execution_count": 18,
   "id": "fbc78c4a",
   "metadata": {},
   "outputs": [
    {
     "data": {
      "image/svg+xml": [
       "<?xml version=\"1.0\" encoding=\"UTF-8\" standalone=\"no\"?>\n",
       "<!DOCTYPE svg PUBLIC \"-//W3C//DTD SVG 1.1//EN\"\n",
       " \"http://www.w3.org/Graphics/SVG/1.1/DTD/svg11.dtd\">\n",
       "<!-- Generated by graphviz version 10.0.1 (20240210.2158)\n",
       " -->\n",
       "<!-- Title: Tree Pages: 1 -->\n",
       "<svg width=\"755pt\" height=\"715pt\"\n",
       " viewBox=\"0.00 0.00 755.25 714.50\" xmlns=\"http://www.w3.org/2000/svg\" xmlns:xlink=\"http://www.w3.org/1999/xlink\">\n",
       "<g id=\"graph0\" class=\"graph\" transform=\"scale(1 1) rotate(0) translate(4 710.5)\">\n",
       "<title>Tree</title>\n",
       "<polygon fill=\"white\" stroke=\"none\" points=\"-4,4 -4,-710.5 751.25,-710.5 751.25,4 -4,4\"/>\n",
       "<!-- 0 -->\n",
       "<g id=\"node1\" class=\"node\">\n",
       "<title>0</title>\n",
       "<path fill=\"#ffffff\" stroke=\"black\" d=\"M456.88,-706.5C456.88,-706.5 307.38,-706.5 307.38,-706.5 301.38,-706.5 295.38,-700.5 295.38,-694.5 295.38,-694.5 295.38,-628 295.38,-628 295.38,-622 301.38,-616 307.38,-616 307.38,-616 456.88,-616 456.88,-616 462.88,-616 468.88,-622 468.88,-628 468.88,-628 468.88,-694.5 468.88,-694.5 468.88,-700.5 462.88,-706.5 456.88,-706.5\"/>\n",
       "<text text-anchor=\"middle\" x=\"382.12\" y=\"-689.2\" font-family=\"Helvetica,sans-Serif\" font-size=\"14.00\">petal length (cm) &lt;= 2.45</text>\n",
       "<text text-anchor=\"middle\" x=\"382.12\" y=\"-672.7\" font-family=\"Helvetica,sans-Serif\" font-size=\"14.00\">gini = 0.667</text>\n",
       "<text text-anchor=\"middle\" x=\"382.12\" y=\"-656.2\" font-family=\"Helvetica,sans-Serif\" font-size=\"14.00\">samples = 150</text>\n",
       "<text text-anchor=\"middle\" x=\"382.12\" y=\"-639.7\" font-family=\"Helvetica,sans-Serif\" font-size=\"14.00\">value = [50, 50, 50]</text>\n",
       "<text text-anchor=\"middle\" x=\"382.12\" y=\"-623.2\" font-family=\"Helvetica,sans-Serif\" font-size=\"14.00\">class = setosa</text>\n",
       "</g>\n",
       "<!-- 1 -->\n",
       "<g id=\"node2\" class=\"node\">\n",
       "<title>1</title>\n",
       "<path fill=\"#e58139\" stroke=\"black\" d=\"M349.25,-571.75C349.25,-571.75 253,-571.75 253,-571.75 247,-571.75 241,-565.75 241,-559.75 241,-559.75 241,-509.75 241,-509.75 241,-503.75 247,-497.75 253,-497.75 253,-497.75 349.25,-497.75 349.25,-497.75 355.25,-497.75 361.25,-503.75 361.25,-509.75 361.25,-509.75 361.25,-559.75 361.25,-559.75 361.25,-565.75 355.25,-571.75 349.25,-571.75\"/>\n",
       "<text text-anchor=\"middle\" x=\"301.12\" y=\"-554.45\" font-family=\"Helvetica,sans-Serif\" font-size=\"14.00\">gini = 0.0</text>\n",
       "<text text-anchor=\"middle\" x=\"301.12\" y=\"-537.95\" font-family=\"Helvetica,sans-Serif\" font-size=\"14.00\">samples = 50</text>\n",
       "<text text-anchor=\"middle\" x=\"301.12\" y=\"-521.45\" font-family=\"Helvetica,sans-Serif\" font-size=\"14.00\">value = [50, 0, 0]</text>\n",
       "<text text-anchor=\"middle\" x=\"301.12\" y=\"-504.95\" font-family=\"Helvetica,sans-Serif\" font-size=\"14.00\">class = setosa</text>\n",
       "</g>\n",
       "<!-- 0&#45;&gt;1 -->\n",
       "<g id=\"edge1\" class=\"edge\">\n",
       "<title>0&#45;&gt;1</title>\n",
       "<path fill=\"none\" stroke=\"black\" d=\"M353.11,-615.65C345.88,-604.54 338.11,-592.6 330.85,-581.43\"/>\n",
       "<polygon fill=\"black\" stroke=\"black\" points=\"333.83,-579.6 325.44,-573.12 327.96,-583.42 333.83,-579.6\"/>\n",
       "<text text-anchor=\"middle\" x=\"319.44\" y=\"-591.26\" font-family=\"Helvetica,sans-Serif\" font-size=\"14.00\">True</text>\n",
       "</g>\n",
       "<!-- 2 -->\n",
       "<g id=\"node3\" class=\"node\">\n",
       "<title>2</title>\n",
       "<path fill=\"#ffffff\" stroke=\"black\" d=\"M534.88,-580C534.88,-580 391.38,-580 391.38,-580 385.38,-580 379.38,-574 379.38,-568 379.38,-568 379.38,-501.5 379.38,-501.5 379.38,-495.5 385.38,-489.5 391.38,-489.5 391.38,-489.5 534.88,-489.5 534.88,-489.5 540.88,-489.5 546.88,-495.5 546.88,-501.5 546.88,-501.5 546.88,-568 546.88,-568 546.88,-574 540.88,-580 534.88,-580\"/>\n",
       "<text text-anchor=\"middle\" x=\"463.12\" y=\"-562.7\" font-family=\"Helvetica,sans-Serif\" font-size=\"14.00\">petal width (cm) &lt;= 1.75</text>\n",
       "<text text-anchor=\"middle\" x=\"463.12\" y=\"-546.2\" font-family=\"Helvetica,sans-Serif\" font-size=\"14.00\">gini = 0.5</text>\n",
       "<text text-anchor=\"middle\" x=\"463.12\" y=\"-529.7\" font-family=\"Helvetica,sans-Serif\" font-size=\"14.00\">samples = 100</text>\n",
       "<text text-anchor=\"middle\" x=\"463.12\" y=\"-513.2\" font-family=\"Helvetica,sans-Serif\" font-size=\"14.00\">value = [0, 50, 50]</text>\n",
       "<text text-anchor=\"middle\" x=\"463.12\" y=\"-496.7\" font-family=\"Helvetica,sans-Serif\" font-size=\"14.00\">class = versicolor</text>\n",
       "</g>\n",
       "<!-- 0&#45;&gt;2 -->\n",
       "<g id=\"edge2\" class=\"edge\">\n",
       "<title>0&#45;&gt;2</title>\n",
       "<path fill=\"none\" stroke=\"black\" d=\"M411.14,-615.65C416.55,-607.34 422.26,-598.57 427.83,-590\"/>\n",
       "<polygon fill=\"black\" stroke=\"black\" points=\"430.7,-592.01 433.22,-581.72 424.83,-588.19 430.7,-592.01\"/>\n",
       "<text text-anchor=\"middle\" x=\"439.22\" y=\"-599.86\" font-family=\"Helvetica,sans-Serif\" font-size=\"14.00\">False</text>\n",
       "</g>\n",
       "<!-- 3 -->\n",
       "<g id=\"node4\" class=\"node\">\n",
       "<title>3</title>\n",
       "<path fill=\"#4de88e\" stroke=\"black\" d=\"M441.88,-453.5C441.88,-453.5 292.38,-453.5 292.38,-453.5 286.38,-453.5 280.38,-447.5 280.38,-441.5 280.38,-441.5 280.38,-375 280.38,-375 280.38,-369 286.38,-363 292.38,-363 292.38,-363 441.88,-363 441.88,-363 447.88,-363 453.88,-369 453.88,-375 453.88,-375 453.88,-441.5 453.88,-441.5 453.88,-447.5 447.88,-453.5 441.88,-453.5\"/>\n",
       "<text text-anchor=\"middle\" x=\"367.12\" y=\"-436.2\" font-family=\"Helvetica,sans-Serif\" font-size=\"14.00\">petal length (cm) &lt;= 4.95</text>\n",
       "<text text-anchor=\"middle\" x=\"367.12\" y=\"-419.7\" font-family=\"Helvetica,sans-Serif\" font-size=\"14.00\">gini = 0.168</text>\n",
       "<text text-anchor=\"middle\" x=\"367.12\" y=\"-403.2\" font-family=\"Helvetica,sans-Serif\" font-size=\"14.00\">samples = 54</text>\n",
       "<text text-anchor=\"middle\" x=\"367.12\" y=\"-386.7\" font-family=\"Helvetica,sans-Serif\" font-size=\"14.00\">value = [0, 49, 5]</text>\n",
       "<text text-anchor=\"middle\" x=\"367.12\" y=\"-370.2\" font-family=\"Helvetica,sans-Serif\" font-size=\"14.00\">class = versicolor</text>\n",
       "</g>\n",
       "<!-- 2&#45;&gt;3 -->\n",
       "<g id=\"edge3\" class=\"edge\">\n",
       "<title>2&#45;&gt;3</title>\n",
       "<path fill=\"none\" stroke=\"black\" d=\"M428.74,-489.15C422.19,-480.66 415.27,-471.69 408.53,-462.95\"/>\n",
       "<polygon fill=\"black\" stroke=\"black\" points=\"411.4,-460.93 402.52,-455.15 405.85,-465.21 411.4,-460.93\"/>\n",
       "</g>\n",
       "<!-- 12 -->\n",
       "<g id=\"node13\" class=\"node\">\n",
       "<title>12</title>\n",
       "<path fill=\"#843de6\" stroke=\"black\" d=\"M633.88,-453.5C633.88,-453.5 484.38,-453.5 484.38,-453.5 478.38,-453.5 472.38,-447.5 472.38,-441.5 472.38,-441.5 472.38,-375 472.38,-375 472.38,-369 478.38,-363 484.38,-363 484.38,-363 633.88,-363 633.88,-363 639.88,-363 645.88,-369 645.88,-375 645.88,-375 645.88,-441.5 645.88,-441.5 645.88,-447.5 639.88,-453.5 633.88,-453.5\"/>\n",
       "<text text-anchor=\"middle\" x=\"559.12\" y=\"-436.2\" font-family=\"Helvetica,sans-Serif\" font-size=\"14.00\">petal length (cm) &lt;= 4.85</text>\n",
       "<text text-anchor=\"middle\" x=\"559.12\" y=\"-419.7\" font-family=\"Helvetica,sans-Serif\" font-size=\"14.00\">gini = 0.043</text>\n",
       "<text text-anchor=\"middle\" x=\"559.12\" y=\"-403.2\" font-family=\"Helvetica,sans-Serif\" font-size=\"14.00\">samples = 46</text>\n",
       "<text text-anchor=\"middle\" x=\"559.12\" y=\"-386.7\" font-family=\"Helvetica,sans-Serif\" font-size=\"14.00\">value = [0, 1, 45]</text>\n",
       "<text text-anchor=\"middle\" x=\"559.12\" y=\"-370.2\" font-family=\"Helvetica,sans-Serif\" font-size=\"14.00\">class = virginica</text>\n",
       "</g>\n",
       "<!-- 2&#45;&gt;12 -->\n",
       "<g id=\"edge12\" class=\"edge\">\n",
       "<title>2&#45;&gt;12</title>\n",
       "<path fill=\"none\" stroke=\"black\" d=\"M497.51,-489.15C504.06,-480.66 510.98,-471.69 517.72,-462.95\"/>\n",
       "<polygon fill=\"black\" stroke=\"black\" points=\"520.4,-465.21 523.73,-455.15 514.85,-460.93 520.4,-465.21\"/>\n",
       "</g>\n",
       "<!-- 4 -->\n",
       "<g id=\"node5\" class=\"node\">\n",
       "<title>4</title>\n",
       "<path fill=\"#3de684\" stroke=\"black\" d=\"M260.88,-327C260.88,-327 117.38,-327 117.38,-327 111.38,-327 105.38,-321 105.38,-315 105.38,-315 105.38,-248.5 105.38,-248.5 105.38,-242.5 111.38,-236.5 117.38,-236.5 117.38,-236.5 260.88,-236.5 260.88,-236.5 266.88,-236.5 272.88,-242.5 272.88,-248.5 272.88,-248.5 272.88,-315 272.88,-315 272.88,-321 266.88,-327 260.88,-327\"/>\n",
       "<text text-anchor=\"middle\" x=\"189.12\" y=\"-309.7\" font-family=\"Helvetica,sans-Serif\" font-size=\"14.00\">petal width (cm) &lt;= 1.65</text>\n",
       "<text text-anchor=\"middle\" x=\"189.12\" y=\"-293.2\" font-family=\"Helvetica,sans-Serif\" font-size=\"14.00\">gini = 0.041</text>\n",
       "<text text-anchor=\"middle\" x=\"189.12\" y=\"-276.7\" font-family=\"Helvetica,sans-Serif\" font-size=\"14.00\">samples = 48</text>\n",
       "<text text-anchor=\"middle\" x=\"189.12\" y=\"-260.2\" font-family=\"Helvetica,sans-Serif\" font-size=\"14.00\">value = [0, 47, 1]</text>\n",
       "<text text-anchor=\"middle\" x=\"189.12\" y=\"-243.7\" font-family=\"Helvetica,sans-Serif\" font-size=\"14.00\">class = versicolor</text>\n",
       "</g>\n",
       "<!-- 3&#45;&gt;4 -->\n",
       "<g id=\"edge4\" class=\"edge\">\n",
       "<title>3&#45;&gt;4</title>\n",
       "<path fill=\"none\" stroke=\"black\" d=\"M303.37,-362.65C290.07,-353.36 275.96,-343.49 262.36,-333.97\"/>\n",
       "<polygon fill=\"black\" stroke=\"black\" points=\"264.48,-331.18 254.28,-328.32 260.47,-336.92 264.48,-331.18\"/>\n",
       "</g>\n",
       "<!-- 7 -->\n",
       "<g id=\"node8\" class=\"node\">\n",
       "<title>7</title>\n",
       "<path fill=\"#c09cf2\" stroke=\"black\" d=\"M446.88,-327C446.88,-327 303.38,-327 303.38,-327 297.38,-327 291.38,-321 291.38,-315 291.38,-315 291.38,-248.5 291.38,-248.5 291.38,-242.5 297.38,-236.5 303.38,-236.5 303.38,-236.5 446.88,-236.5 446.88,-236.5 452.88,-236.5 458.88,-242.5 458.88,-248.5 458.88,-248.5 458.88,-315 458.88,-315 458.88,-321 452.88,-327 446.88,-327\"/>\n",
       "<text text-anchor=\"middle\" x=\"375.12\" y=\"-309.7\" font-family=\"Helvetica,sans-Serif\" font-size=\"14.00\">petal width (cm) &lt;= 1.55</text>\n",
       "<text text-anchor=\"middle\" x=\"375.12\" y=\"-293.2\" font-family=\"Helvetica,sans-Serif\" font-size=\"14.00\">gini = 0.444</text>\n",
       "<text text-anchor=\"middle\" x=\"375.12\" y=\"-276.7\" font-family=\"Helvetica,sans-Serif\" font-size=\"14.00\">samples = 6</text>\n",
       "<text text-anchor=\"middle\" x=\"375.12\" y=\"-260.2\" font-family=\"Helvetica,sans-Serif\" font-size=\"14.00\">value = [0, 2, 4]</text>\n",
       "<text text-anchor=\"middle\" x=\"375.12\" y=\"-243.7\" font-family=\"Helvetica,sans-Serif\" font-size=\"14.00\">class = virginica</text>\n",
       "</g>\n",
       "<!-- 3&#45;&gt;7 -->\n",
       "<g id=\"edge7\" class=\"edge\">\n",
       "<title>3&#45;&gt;7</title>\n",
       "<path fill=\"none\" stroke=\"black\" d=\"M369.99,-362.65C370.48,-354.97 371,-346.89 371.51,-338.94\"/>\n",
       "<polygon fill=\"black\" stroke=\"black\" points=\"375.01,-339.17 372.16,-328.96 368.02,-338.72 375.01,-339.17\"/>\n",
       "</g>\n",
       "<!-- 5 -->\n",
       "<g id=\"node6\" class=\"node\">\n",
       "<title>5</title>\n",
       "<path fill=\"#39e581\" stroke=\"black\" d=\"M114.25,-192.25C114.25,-192.25 12,-192.25 12,-192.25 6,-192.25 0,-186.25 0,-180.25 0,-180.25 0,-130.25 0,-130.25 0,-124.25 6,-118.25 12,-118.25 12,-118.25 114.25,-118.25 114.25,-118.25 120.25,-118.25 126.25,-124.25 126.25,-130.25 126.25,-130.25 126.25,-180.25 126.25,-180.25 126.25,-186.25 120.25,-192.25 114.25,-192.25\"/>\n",
       "<text text-anchor=\"middle\" x=\"63.12\" y=\"-174.95\" font-family=\"Helvetica,sans-Serif\" font-size=\"14.00\">gini = 0.0</text>\n",
       "<text text-anchor=\"middle\" x=\"63.12\" y=\"-158.45\" font-family=\"Helvetica,sans-Serif\" font-size=\"14.00\">samples = 47</text>\n",
       "<text text-anchor=\"middle\" x=\"63.12\" y=\"-141.95\" font-family=\"Helvetica,sans-Serif\" font-size=\"14.00\">value = [0, 47, 0]</text>\n",
       "<text text-anchor=\"middle\" x=\"63.12\" y=\"-125.45\" font-family=\"Helvetica,sans-Serif\" font-size=\"14.00\">class = versicolor</text>\n",
       "</g>\n",
       "<!-- 4&#45;&gt;5 -->\n",
       "<g id=\"edge5\" class=\"edge\">\n",
       "<title>4&#45;&gt;5</title>\n",
       "<path fill=\"none\" stroke=\"black\" d=\"M143.99,-236.15C132.17,-224.48 119.44,-211.89 107.65,-200.25\"/>\n",
       "<polygon fill=\"black\" stroke=\"black\" points=\"110.32,-197.96 100.74,-193.42 105.4,-202.94 110.32,-197.96\"/>\n",
       "</g>\n",
       "<!-- 6 -->\n",
       "<g id=\"node7\" class=\"node\">\n",
       "<title>6</title>\n",
       "<path fill=\"#8139e5\" stroke=\"black\" d=\"M248,-192.25C248,-192.25 156.25,-192.25 156.25,-192.25 150.25,-192.25 144.25,-186.25 144.25,-180.25 144.25,-180.25 144.25,-130.25 144.25,-130.25 144.25,-124.25 150.25,-118.25 156.25,-118.25 156.25,-118.25 248,-118.25 248,-118.25 254,-118.25 260,-124.25 260,-130.25 260,-130.25 260,-180.25 260,-180.25 260,-186.25 254,-192.25 248,-192.25\"/>\n",
       "<text text-anchor=\"middle\" x=\"202.12\" y=\"-174.95\" font-family=\"Helvetica,sans-Serif\" font-size=\"14.00\">gini = 0.0</text>\n",
       "<text text-anchor=\"middle\" x=\"202.12\" y=\"-158.45\" font-family=\"Helvetica,sans-Serif\" font-size=\"14.00\">samples = 1</text>\n",
       "<text text-anchor=\"middle\" x=\"202.12\" y=\"-141.95\" font-family=\"Helvetica,sans-Serif\" font-size=\"14.00\">value = [0, 0, 1]</text>\n",
       "<text text-anchor=\"middle\" x=\"202.12\" y=\"-125.45\" font-family=\"Helvetica,sans-Serif\" font-size=\"14.00\">class = virginica</text>\n",
       "</g>\n",
       "<!-- 4&#45;&gt;6 -->\n",
       "<g id=\"edge6\" class=\"edge\">\n",
       "<title>4&#45;&gt;6</title>\n",
       "<path fill=\"none\" stroke=\"black\" d=\"M193.78,-236.15C194.88,-225.6 196.06,-214.31 197.18,-203.63\"/>\n",
       "<polygon fill=\"black\" stroke=\"black\" points=\"200.64,-204.17 198.2,-193.86 193.68,-203.44 200.64,-204.17\"/>\n",
       "</g>\n",
       "<!-- 8 -->\n",
       "<g id=\"node9\" class=\"node\">\n",
       "<title>8</title>\n",
       "<path fill=\"#8139e5\" stroke=\"black\" d=\"M408,-192.25C408,-192.25 316.25,-192.25 316.25,-192.25 310.25,-192.25 304.25,-186.25 304.25,-180.25 304.25,-180.25 304.25,-130.25 304.25,-130.25 304.25,-124.25 310.25,-118.25 316.25,-118.25 316.25,-118.25 408,-118.25 408,-118.25 414,-118.25 420,-124.25 420,-130.25 420,-130.25 420,-180.25 420,-180.25 420,-186.25 414,-192.25 408,-192.25\"/>\n",
       "<text text-anchor=\"middle\" x=\"362.12\" y=\"-174.95\" font-family=\"Helvetica,sans-Serif\" font-size=\"14.00\">gini = 0.0</text>\n",
       "<text text-anchor=\"middle\" x=\"362.12\" y=\"-158.45\" font-family=\"Helvetica,sans-Serif\" font-size=\"14.00\">samples = 3</text>\n",
       "<text text-anchor=\"middle\" x=\"362.12\" y=\"-141.95\" font-family=\"Helvetica,sans-Serif\" font-size=\"14.00\">value = [0, 0, 3]</text>\n",
       "<text text-anchor=\"middle\" x=\"362.12\" y=\"-125.45\" font-family=\"Helvetica,sans-Serif\" font-size=\"14.00\">class = virginica</text>\n",
       "</g>\n",
       "<!-- 7&#45;&gt;8 -->\n",
       "<g id=\"edge8\" class=\"edge\">\n",
       "<title>7&#45;&gt;8</title>\n",
       "<path fill=\"none\" stroke=\"black\" d=\"M370.47,-236.15C369.37,-225.6 368.19,-214.31 367.07,-203.63\"/>\n",
       "<polygon fill=\"black\" stroke=\"black\" points=\"370.57,-203.44 366.05,-193.86 363.61,-204.17 370.57,-203.44\"/>\n",
       "</g>\n",
       "<!-- 9 -->\n",
       "<g id=\"node10\" class=\"node\">\n",
       "<title>9</title>\n",
       "<path fill=\"#9cf2c0\" stroke=\"black\" d=\"M599.88,-200.5C599.88,-200.5 450.38,-200.5 450.38,-200.5 444.38,-200.5 438.38,-194.5 438.38,-188.5 438.38,-188.5 438.38,-122 438.38,-122 438.38,-116 444.38,-110 450.38,-110 450.38,-110 599.88,-110 599.88,-110 605.88,-110 611.88,-116 611.88,-122 611.88,-122 611.88,-188.5 611.88,-188.5 611.88,-194.5 605.88,-200.5 599.88,-200.5\"/>\n",
       "<text text-anchor=\"middle\" x=\"525.12\" y=\"-183.2\" font-family=\"Helvetica,sans-Serif\" font-size=\"14.00\">petal length (cm) &lt;= 5.45</text>\n",
       "<text text-anchor=\"middle\" x=\"525.12\" y=\"-166.7\" font-family=\"Helvetica,sans-Serif\" font-size=\"14.00\">gini = 0.444</text>\n",
       "<text text-anchor=\"middle\" x=\"525.12\" y=\"-150.2\" font-family=\"Helvetica,sans-Serif\" font-size=\"14.00\">samples = 3</text>\n",
       "<text text-anchor=\"middle\" x=\"525.12\" y=\"-133.7\" font-family=\"Helvetica,sans-Serif\" font-size=\"14.00\">value = [0, 2, 1]</text>\n",
       "<text text-anchor=\"middle\" x=\"525.12\" y=\"-117.2\" font-family=\"Helvetica,sans-Serif\" font-size=\"14.00\">class = versicolor</text>\n",
       "</g>\n",
       "<!-- 7&#45;&gt;9 -->\n",
       "<g id=\"edge9\" class=\"edge\">\n",
       "<title>7&#45;&gt;9</title>\n",
       "<path fill=\"none\" stroke=\"black\" d=\"M428.85,-236.15C439.73,-227.13 451.26,-217.56 462.42,-208.3\"/>\n",
       "<polygon fill=\"black\" stroke=\"black\" points=\"464.64,-211 470.1,-201.92 460.17,-205.61 464.64,-211\"/>\n",
       "</g>\n",
       "<!-- 10 -->\n",
       "<g id=\"node11\" class=\"node\">\n",
       "<title>10</title>\n",
       "<path fill=\"#39e581\" stroke=\"black\" d=\"M506.25,-74C506.25,-74 404,-74 404,-74 398,-74 392,-68 392,-62 392,-62 392,-12 392,-12 392,-6 398,0 404,0 404,0 506.25,0 506.25,0 512.25,0 518.25,-6 518.25,-12 518.25,-12 518.25,-62 518.25,-62 518.25,-68 512.25,-74 506.25,-74\"/>\n",
       "<text text-anchor=\"middle\" x=\"455.12\" y=\"-56.7\" font-family=\"Helvetica,sans-Serif\" font-size=\"14.00\">gini = 0.0</text>\n",
       "<text text-anchor=\"middle\" x=\"455.12\" y=\"-40.2\" font-family=\"Helvetica,sans-Serif\" font-size=\"14.00\">samples = 2</text>\n",
       "<text text-anchor=\"middle\" x=\"455.12\" y=\"-23.7\" font-family=\"Helvetica,sans-Serif\" font-size=\"14.00\">value = [0, 2, 0]</text>\n",
       "<text text-anchor=\"middle\" x=\"455.12\" y=\"-7.2\" font-family=\"Helvetica,sans-Serif\" font-size=\"14.00\">class = versicolor</text>\n",
       "</g>\n",
       "<!-- 9&#45;&gt;10 -->\n",
       "<g id=\"edge10\" class=\"edge\">\n",
       "<title>9&#45;&gt;10</title>\n",
       "<path fill=\"none\" stroke=\"black\" d=\"M498.26,-109.64C493.22,-101.26 487.94,-92.49 482.87,-84.07\"/>\n",
       "<polygon fill=\"black\" stroke=\"black\" points=\"485.98,-82.45 477.82,-75.69 479.98,-86.06 485.98,-82.45\"/>\n",
       "</g>\n",
       "<!-- 11 -->\n",
       "<g id=\"node12\" class=\"node\">\n",
       "<title>11</title>\n",
       "<path fill=\"#8139e5\" stroke=\"black\" d=\"M640,-74C640,-74 548.25,-74 548.25,-74 542.25,-74 536.25,-68 536.25,-62 536.25,-62 536.25,-12 536.25,-12 536.25,-6 542.25,0 548.25,0 548.25,0 640,0 640,0 646,0 652,-6 652,-12 652,-12 652,-62 652,-62 652,-68 646,-74 640,-74\"/>\n",
       "<text text-anchor=\"middle\" x=\"594.12\" y=\"-56.7\" font-family=\"Helvetica,sans-Serif\" font-size=\"14.00\">gini = 0.0</text>\n",
       "<text text-anchor=\"middle\" x=\"594.12\" y=\"-40.2\" font-family=\"Helvetica,sans-Serif\" font-size=\"14.00\">samples = 1</text>\n",
       "<text text-anchor=\"middle\" x=\"594.12\" y=\"-23.7\" font-family=\"Helvetica,sans-Serif\" font-size=\"14.00\">value = [0, 0, 1]</text>\n",
       "<text text-anchor=\"middle\" x=\"594.12\" y=\"-7.2\" font-family=\"Helvetica,sans-Serif\" font-size=\"14.00\">class = virginica</text>\n",
       "</g>\n",
       "<!-- 9&#45;&gt;11 -->\n",
       "<g id=\"edge11\" class=\"edge\">\n",
       "<title>9&#45;&gt;11</title>\n",
       "<path fill=\"none\" stroke=\"black\" d=\"M551.6,-109.64C556.58,-101.26 561.78,-92.49 566.78,-84.07\"/>\n",
       "<polygon fill=\"black\" stroke=\"black\" points=\"569.66,-86.08 571.75,-75.7 563.64,-82.51 569.66,-86.08\"/>\n",
       "</g>\n",
       "<!-- 13 -->\n",
       "<g id=\"node14\" class=\"node\">\n",
       "<title>13</title>\n",
       "<path fill=\"#c09cf2\" stroke=\"black\" d=\"M597,-318.75C597,-318.75 505.25,-318.75 505.25,-318.75 499.25,-318.75 493.25,-312.75 493.25,-306.75 493.25,-306.75 493.25,-256.75 493.25,-256.75 493.25,-250.75 499.25,-244.75 505.25,-244.75 505.25,-244.75 597,-244.75 597,-244.75 603,-244.75 609,-250.75 609,-256.75 609,-256.75 609,-306.75 609,-306.75 609,-312.75 603,-318.75 597,-318.75\"/>\n",
       "<text text-anchor=\"middle\" x=\"551.12\" y=\"-301.45\" font-family=\"Helvetica,sans-Serif\" font-size=\"14.00\">gini = 0.444</text>\n",
       "<text text-anchor=\"middle\" x=\"551.12\" y=\"-284.95\" font-family=\"Helvetica,sans-Serif\" font-size=\"14.00\">samples = 3</text>\n",
       "<text text-anchor=\"middle\" x=\"551.12\" y=\"-268.45\" font-family=\"Helvetica,sans-Serif\" font-size=\"14.00\">value = [0, 1, 2]</text>\n",
       "<text text-anchor=\"middle\" x=\"551.12\" y=\"-251.95\" font-family=\"Helvetica,sans-Serif\" font-size=\"14.00\">class = virginica</text>\n",
       "</g>\n",
       "<!-- 12&#45;&gt;13 -->\n",
       "<g id=\"edge13\" class=\"edge\">\n",
       "<title>12&#45;&gt;13</title>\n",
       "<path fill=\"none\" stroke=\"black\" d=\"M556.26,-362.65C555.58,-352.1 554.86,-340.81 554.17,-330.13\"/>\n",
       "<polygon fill=\"black\" stroke=\"black\" points=\"557.68,-330.12 553.54,-320.37 550.69,-330.57 557.68,-330.12\"/>\n",
       "</g>\n",
       "<!-- 14 -->\n",
       "<g id=\"node15\" class=\"node\">\n",
       "<title>14</title>\n",
       "<path fill=\"#8139e5\" stroke=\"black\" d=\"M735.25,-318.75C735.25,-318.75 639,-318.75 639,-318.75 633,-318.75 627,-312.75 627,-306.75 627,-306.75 627,-256.75 627,-256.75 627,-250.75 633,-244.75 639,-244.75 639,-244.75 735.25,-244.75 735.25,-244.75 741.25,-244.75 747.25,-250.75 747.25,-256.75 747.25,-256.75 747.25,-306.75 747.25,-306.75 747.25,-312.75 741.25,-318.75 735.25,-318.75\"/>\n",
       "<text text-anchor=\"middle\" x=\"687.12\" y=\"-301.45\" font-family=\"Helvetica,sans-Serif\" font-size=\"14.00\">gini = 0.0</text>\n",
       "<text text-anchor=\"middle\" x=\"687.12\" y=\"-284.95\" font-family=\"Helvetica,sans-Serif\" font-size=\"14.00\">samples = 43</text>\n",
       "<text text-anchor=\"middle\" x=\"687.12\" y=\"-268.45\" font-family=\"Helvetica,sans-Serif\" font-size=\"14.00\">value = [0, 0, 43]</text>\n",
       "<text text-anchor=\"middle\" x=\"687.12\" y=\"-251.95\" font-family=\"Helvetica,sans-Serif\" font-size=\"14.00\">class = virginica</text>\n",
       "</g>\n",
       "<!-- 12&#45;&gt;14 -->\n",
       "<g id=\"edge14\" class=\"edge\">\n",
       "<title>12&#45;&gt;14</title>\n",
       "<path fill=\"none\" stroke=\"black\" d=\"M604.97,-362.65C616.98,-350.98 629.92,-338.39 641.89,-326.75\"/>\n",
       "<polygon fill=\"black\" stroke=\"black\" points=\"644.19,-329.39 648.92,-319.91 639.31,-324.37 644.19,-329.39\"/>\n",
       "</g>\n",
       "</g>\n",
       "</svg>\n"
      ],
      "text/plain": [
       "<graphviz.sources.Source at 0x231650a9c10>"
      ]
     },
     "execution_count": 18,
     "metadata": {},
     "output_type": "execute_result"
    }
   ],
   "source": [
    "graph"
   ]
  },
  {
   "cell_type": "code",
   "execution_count": 19,
   "id": "902c2e18",
   "metadata": {},
   "outputs": [],
   "source": [
    "from sklearn.datasets import make_blobs\n",
    "data=make_blobs(n_samples=500,n_features=2,random_state=4)"
   ]
  },
  {
   "cell_type": "code",
   "execution_count": 22,
   "id": "b1e94478",
   "metadata": {},
   "outputs": [],
   "source": [
    "x_train,x_test,y_train,y_test=train_test_split(data[0],data[1],test_size=0.3)"
   ]
  },
  {
   "cell_type": "code",
   "execution_count": 24,
   "id": "5b64a4cd",
   "metadata": {},
   "outputs": [
    {
     "data": {
      "text/html": [
       "<style>#sk-container-id-3 {color: black;}#sk-container-id-3 pre{padding: 0;}#sk-container-id-3 div.sk-toggleable {background-color: white;}#sk-container-id-3 label.sk-toggleable__label {cursor: pointer;display: block;width: 100%;margin-bottom: 0;padding: 0.3em;box-sizing: border-box;text-align: center;}#sk-container-id-3 label.sk-toggleable__label-arrow:before {content: \"▸\";float: left;margin-right: 0.25em;color: #696969;}#sk-container-id-3 label.sk-toggleable__label-arrow:hover:before {color: black;}#sk-container-id-3 div.sk-estimator:hover label.sk-toggleable__label-arrow:before {color: black;}#sk-container-id-3 div.sk-toggleable__content {max-height: 0;max-width: 0;overflow: hidden;text-align: left;background-color: #f0f8ff;}#sk-container-id-3 div.sk-toggleable__content pre {margin: 0.2em;color: black;border-radius: 0.25em;background-color: #f0f8ff;}#sk-container-id-3 input.sk-toggleable__control:checked~div.sk-toggleable__content {max-height: 200px;max-width: 100%;overflow: auto;}#sk-container-id-3 input.sk-toggleable__control:checked~label.sk-toggleable__label-arrow:before {content: \"▾\";}#sk-container-id-3 div.sk-estimator input.sk-toggleable__control:checked~label.sk-toggleable__label {background-color: #d4ebff;}#sk-container-id-3 div.sk-label input.sk-toggleable__control:checked~label.sk-toggleable__label {background-color: #d4ebff;}#sk-container-id-3 input.sk-hidden--visually {border: 0;clip: rect(1px 1px 1px 1px);clip: rect(1px, 1px, 1px, 1px);height: 1px;margin: -1px;overflow: hidden;padding: 0;position: absolute;width: 1px;}#sk-container-id-3 div.sk-estimator {font-family: monospace;background-color: #f0f8ff;border: 1px dotted black;border-radius: 0.25em;box-sizing: border-box;margin-bottom: 0.5em;}#sk-container-id-3 div.sk-estimator:hover {background-color: #d4ebff;}#sk-container-id-3 div.sk-parallel-item::after {content: \"\";width: 100%;border-bottom: 1px solid gray;flex-grow: 1;}#sk-container-id-3 div.sk-label:hover label.sk-toggleable__label {background-color: #d4ebff;}#sk-container-id-3 div.sk-serial::before {content: \"\";position: absolute;border-left: 1px solid gray;box-sizing: border-box;top: 0;bottom: 0;left: 50%;z-index: 0;}#sk-container-id-3 div.sk-serial {display: flex;flex-direction: column;align-items: center;background-color: white;padding-right: 0.2em;padding-left: 0.2em;position: relative;}#sk-container-id-3 div.sk-item {position: relative;z-index: 1;}#sk-container-id-3 div.sk-parallel {display: flex;align-items: stretch;justify-content: center;background-color: white;position: relative;}#sk-container-id-3 div.sk-item::before, #sk-container-id-3 div.sk-parallel-item::before {content: \"\";position: absolute;border-left: 1px solid gray;box-sizing: border-box;top: 0;bottom: 0;left: 50%;z-index: -1;}#sk-container-id-3 div.sk-parallel-item {display: flex;flex-direction: column;z-index: 1;position: relative;background-color: white;}#sk-container-id-3 div.sk-parallel-item:first-child::after {align-self: flex-end;width: 50%;}#sk-container-id-3 div.sk-parallel-item:last-child::after {align-self: flex-start;width: 50%;}#sk-container-id-3 div.sk-parallel-item:only-child::after {width: 0;}#sk-container-id-3 div.sk-dashed-wrapped {border: 1px dashed gray;margin: 0 0.4em 0.5em 0.4em;box-sizing: border-box;padding-bottom: 0.4em;background-color: white;}#sk-container-id-3 div.sk-label label {font-family: monospace;font-weight: bold;display: inline-block;line-height: 1.2em;}#sk-container-id-3 div.sk-label-container {text-align: center;}#sk-container-id-3 div.sk-container {/* jupyter's `normalize.less` sets `[hidden] { display: none; }` but bootstrap.min.css set `[hidden] { display: none !important; }` so we also need the `!important` here to be able to override the default hidden behavior on the sphinx rendered scikit-learn.org. See: https://github.com/scikit-learn/scikit-learn/issues/21755 */display: inline-block !important;position: relative;}#sk-container-id-3 div.sk-text-repr-fallback {display: none;}</style><div id=\"sk-container-id-3\" class=\"sk-top-container\"><div class=\"sk-text-repr-fallback\"><pre>DecisionTreeRegressor()</pre><b>In a Jupyter environment, please rerun this cell to show the HTML representation or trust the notebook. <br />On GitHub, the HTML representation is unable to render, please try loading this page with nbviewer.org.</b></div><div class=\"sk-container\" hidden><div class=\"sk-item\"><div class=\"sk-estimator sk-toggleable\"><input class=\"sk-toggleable__control sk-hidden--visually\" id=\"sk-estimator-id-3\" type=\"checkbox\" checked><label for=\"sk-estimator-id-3\" class=\"sk-toggleable__label sk-toggleable__label-arrow\">DecisionTreeRegressor</label><div class=\"sk-toggleable__content\"><pre>DecisionTreeRegressor()</pre></div></div></div></div></div>"
      ],
      "text/plain": [
       "DecisionTreeRegressor()"
      ]
     },
     "execution_count": 24,
     "metadata": {},
     "output_type": "execute_result"
    }
   ],
   "source": [
    "from sklearn.tree import DecisionTreeRegressor\n",
    "clf=DecisionTreeRegressor()\n",
    "clf.fit(x_train,y_train)\n"
   ]
  },
  {
   "cell_type": "code",
   "execution_count": 28,
   "id": "acd8dbc6",
   "metadata": {},
   "outputs": [
    {
     "name": "stdout",
     "output_type": "stream",
     "text": [
      "0.04666666666666667\n"
     ]
    },
    {
     "data": {
      "text/plain": [
       "0.9533333333333334"
      ]
     },
     "execution_count": 28,
     "metadata": {},
     "output_type": "execute_result"
    }
   ],
   "source": [
    "pred=clf.predict(x_test)\n",
    "from sklearn.metrics import mean_squared_error,accuracy_score\n",
    "print(mean_squared_error(y_test,pred))\n",
    "accuracy_score(y_test,pred)"
   ]
  }
 ],
 "metadata": {
  "kernelspec": {
   "display_name": "Python 3 (ipykernel)",
   "language": "python",
   "name": "python3"
  },
  "language_info": {
   "codemirror_mode": {
    "name": "ipython",
    "version": 3
   },
   "file_extension": ".py",
   "mimetype": "text/x-python",
   "name": "python",
   "nbconvert_exporter": "python",
   "pygments_lexer": "ipython3",
   "version": "3.11.5"
  }
 },
 "nbformat": 4,
 "nbformat_minor": 5
}
