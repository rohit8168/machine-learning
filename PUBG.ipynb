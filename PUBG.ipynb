{
 "cells": [
  {
   "cell_type": "code",
   "execution_count": 46,
   "id": "d597f976",
   "metadata": {},
   "outputs": [],
   "source": [
    "import pandas as pd\n",
    "import matplotlib.pyplot as plt\n",
    "import seaborn as sns\n",
    "import numpy as np\n",
    "from sklearn.metrics import mean_squared_error\n",
    "from sklearn.model_selection import train_test_split\n",
    "from sklearn.preprocessing import StandardScaler\n"
   ]
  },
  {
   "cell_type": "code",
   "execution_count": null,
   "id": "848a5414",
   "metadata": {},
   "outputs": [],
   "source": []
  },
  {
   "cell_type": "code",
   "execution_count": 47,
   "id": "00e9cd4d",
   "metadata": {},
   "outputs": [],
   "source": [
    "import catboost"
   ]
  },
  {
   "cell_type": "code",
   "execution_count": 48,
   "id": "0d15e529",
   "metadata": {},
   "outputs": [],
   "source": [
    "data=pd.read_csv(r\"C:\\ml\\da\\PUBG_Game_Prediction_data.csv\")"
   ]
  },
  {
   "cell_type": "code",
   "execution_count": 49,
   "id": "4b1443e2",
   "metadata": {},
   "outputs": [],
   "source": [
    "import matplotlib.pyplot as plt\n",
    "plt.rcParams['figure.figsize']=(16,6)"
   ]
  },
  {
   "cell_type": "code",
   "execution_count": 50,
   "id": "317d13b3",
   "metadata": {},
   "outputs": [],
   "source": [
    "import seaborn as sns\n",
    "import warnings\n",
    "warnings.filterwarnings(\"ignore\")"
   ]
  },
  {
   "cell_type": "code",
   "execution_count": 51,
   "id": "cb9c3755",
   "metadata": {},
   "outputs": [
    {
     "name": "stdout",
     "output_type": "stream",
     "text": [
      "<class 'pandas.core.frame.DataFrame'>\n",
      "RangeIndex: 4446966 entries, 0 to 4446965\n",
      "Data columns (total 29 columns):\n",
      " #   Column           Dtype  \n",
      "---  ------           -----  \n",
      " 0   Id               object \n",
      " 1   groupId          object \n",
      " 2   matchId          object \n",
      " 3   assists          int64  \n",
      " 4   boosts           int64  \n",
      " 5   damageDealt      float64\n",
      " 6   DBNOs            int64  \n",
      " 7   headshotKills    int64  \n",
      " 8   heals            int64  \n",
      " 9   killPlace        int64  \n",
      " 10  killPoints       int64  \n",
      " 11  kills            int64  \n",
      " 12  killStreaks      int64  \n",
      " 13  longestKill      float64\n",
      " 14  matchDuration    int64  \n",
      " 15  matchType        object \n",
      " 16  maxPlace         int64  \n",
      " 17  numGroups        int64  \n",
      " 18  rankPoints       int64  \n",
      " 19  revives          int64  \n",
      " 20  rideDistance     float64\n",
      " 21  roadKills        int64  \n",
      " 22  swimDistance     float64\n",
      " 23  teamKills        int64  \n",
      " 24  vehicleDestroys  int64  \n",
      " 25  walkDistance     float64\n",
      " 26  weaponsAcquired  int64  \n",
      " 27  winPoints        int64  \n",
      " 28  winPlacePerc     float64\n",
      "dtypes: float64(6), int64(19), object(4)\n",
      "memory usage: 983.9+ MB\n"
     ]
    }
   ],
   "source": [
    "data.info()"
   ]
  },
  {
   "cell_type": "code",
   "execution_count": 52,
   "id": "af9151de",
   "metadata": {},
   "outputs": [
    {
     "data": {
      "text/plain": [
       "Id                 0\n",
       "groupId            0\n",
       "matchId            0\n",
       "assists            0\n",
       "boosts             0\n",
       "damageDealt        0\n",
       "DBNOs              0\n",
       "headshotKills      0\n",
       "heals              0\n",
       "killPlace          0\n",
       "killPoints         0\n",
       "kills              0\n",
       "killStreaks        0\n",
       "longestKill        0\n",
       "matchDuration      0\n",
       "matchType          0\n",
       "maxPlace           0\n",
       "numGroups          0\n",
       "rankPoints         0\n",
       "revives            0\n",
       "rideDistance       0\n",
       "roadKills          0\n",
       "swimDistance       0\n",
       "teamKills          0\n",
       "vehicleDestroys    0\n",
       "walkDistance       0\n",
       "weaponsAcquired    0\n",
       "winPoints          0\n",
       "winPlacePerc       1\n",
       "dtype: int64"
      ]
     },
     "execution_count": 52,
     "metadata": {},
     "output_type": "execute_result"
    }
   ],
   "source": [
    "data.isna().sum()"
   ]
  },
  {
   "cell_type": "code",
   "execution_count": 53,
   "id": "ad97045c",
   "metadata": {},
   "outputs": [
    {
     "data": {
      "text/plain": [
       "(4446966, 29)"
      ]
     },
     "execution_count": 53,
     "metadata": {},
     "output_type": "execute_result"
    }
   ],
   "source": [
    "data.shape"
   ]
  },
  {
   "cell_type": "code",
   "execution_count": 54,
   "id": "809da460",
   "metadata": {},
   "outputs": [
    {
     "data": {
      "text/plain": [
       "Index([2744604], dtype='int64')"
      ]
     },
     "execution_count": 54,
     "metadata": {},
     "output_type": "execute_result"
    }
   ],
   "source": [
    "data[data['winPlacePerc'].isnull()].index"
   ]
  },
  {
   "cell_type": "code",
   "execution_count": 55,
   "id": "f1abc749",
   "metadata": {},
   "outputs": [],
   "source": [
    "data=data.drop(2744604,axis=0)"
   ]
  },
  {
   "cell_type": "code",
   "execution_count": 56,
   "id": "8920b67b",
   "metadata": {},
   "outputs": [],
   "source": [
    "data['playesjoined']=data.groupby(\"matchId\")['matchId'].transform(\"count\")"
   ]
  },
  {
   "cell_type": "code",
   "execution_count": 57,
   "id": "940ff51a",
   "metadata": {},
   "outputs": [
    {
     "data": {
      "text/plain": [
       "<Axes: xlabel='playesjoined', ylabel='count'>"
      ]
     },
     "execution_count": 57,
     "metadata": {},
     "output_type": "execute_result"
    },
    {
     "data": {
      "image/png": "[encoded data removed]",
      "text/plain": [
       "<Figure size 1600x600 with 1 Axes>"
      ]
     },
     "metadata": {},
     "output_type": "display_data"
    }
   ],
   "source": [
    "sns.countplot(data=data[data['playesjoined']>=75],x=\"playesjoined\")"
   ]
  },
  {
   "cell_type": "code",
   "execution_count": 58,
   "id": "dffa9b35",
   "metadata": {},
   "outputs": [],
   "source": [
    "data['total_walk']=data['rideDistance']+data['walkDistance']+data['swimDistance']"
   ]
  },
  {
   "cell_type": "code",
   "execution_count": 59,
   "id": "a6bd5e9e",
   "metadata": {},
   "outputs": [],
   "source": [
    "data['bot_used']=(data['total_walk']==0)&data['kills']>0"
   ]
  },
  {
   "cell_type": "code",
   "execution_count": 60,
   "id": "a072ffc6",
   "metadata": {},
   "outputs": [],
   "source": [
    "data=data[data['bot_used']==False]"
   ]
  },
  {
   "cell_type": "code",
   "execution_count": 61,
   "id": "4379a3be",
   "metadata": {},
   "outputs": [
    {
     "data": {
      "text/plain": [
       "(4446008, 32)"
      ]
     },
     "execution_count": 61,
     "metadata": {},
     "output_type": "execute_result"
    }
   ],
   "source": [
    "data.shape"
   ]
  },
  {
   "cell_type": "code",
   "execution_count": 62,
   "id": "dad42b73",
   "metadata": {},
   "outputs": [
    {
     "data": {
      "text/plain": [
       "(46, 32)"
      ]
     },
     "execution_count": 62,
     "metadata": {},
     "output_type": "execute_result"
    }
   ],
   "source": [
    "data[data['roadKills']>5].shape"
   ]
  },
  {
   "cell_type": "code",
   "execution_count": 63,
   "id": "cfd09c22",
   "metadata": {},
   "outputs": [],
   "source": [
    "data.drop(data[data['roadKills']>5].index,axis=0,inplace=True)"
   ]
  },
  {
   "cell_type": "code",
   "execution_count": 64,
   "id": "e1d1ad42",
   "metadata": {},
   "outputs": [],
   "source": [
    "# sns.countplot(data=data[data['kills']>=15],x='kills')"
   ]
  },
  {
   "cell_type": "code",
   "execution_count": 65,
   "id": "559674d5",
   "metadata": {},
   "outputs": [],
   "source": [
    "data['headshotKills_rate']=data['headshotKills']/data['kills']\n"
   ]
  },
  {
   "cell_type": "code",
   "execution_count": 66,
   "id": "1832dd95",
   "metadata": {},
   "outputs": [],
   "source": [
    "data.drop(data[(data['headshotKills_rate']==1)&(data['kills']>=5)].index,axis=0,inplace=True)"
   ]
  },
  {
   "cell_type": "code",
   "execution_count": 67,
   "id": "9bc04fb6",
   "metadata": {},
   "outputs": [],
   "source": [
    "# sns.distplot(data['headshotKills'])\n"
   ]
  },
  {
   "cell_type": "code",
   "execution_count": 68,
   "id": "ea09ab84",
   "metadata": {},
   "outputs": [],
   "source": [
    "# sns.distplot(data['longestKill'],bins=50)"
   ]
  },
  {
   "cell_type": "code",
   "execution_count": 69,
   "id": "bdaa82a0",
   "metadata": {},
   "outputs": [],
   "source": [
    "data.drop(data[data['longestKill']>=500].index,axis=0,inplace=True)"
   ]
  },
  {
   "cell_type": "code",
   "execution_count": 70,
   "id": "33cdc8d2",
   "metadata": {},
   "outputs": [],
   "source": [
    "# sns.distplot(data['weaponsAcquired'])"
   ]
  },
  {
   "cell_type": "code",
   "execution_count": 71,
   "id": "0b3c43dd",
   "metadata": {},
   "outputs": [],
   "source": [
    "data.drop(data[data['weaponsAcquired']>=15].index,axis=0,inplace=True)"
   ]
  },
  {
   "cell_type": "code",
   "execution_count": 72,
   "id": "92ce4699",
   "metadata": {},
   "outputs": [
    {
     "data": {
      "text/plain": [
       "(4436347, 33)"
      ]
     },
     "execution_count": 72,
     "metadata": {},
     "output_type": "execute_result"
    }
   ],
   "source": [
    "data.shape"
   ]
  },
  {
   "cell_type": "code",
   "execution_count": 73,
   "id": "acbd1fb3",
   "metadata": {},
   "outputs": [],
   "source": [
    "data['headshotKills_rate']=data['headshotKills_rate'].fillna(0)\n",
    "y=data['bot_used']\n",
    "data.drop(\"bot_used\",axis=1,inplace=True)"
   ]
  },
  {
   "cell_type": "code",
   "execution_count": 74,
   "id": "e345d20c",
   "metadata": {},
   "outputs": [],
   "source": [
    "x=data['matchType']\n",
    "data.drop(\"matchType\",axis=1,inplace=True)\n"
   ]
  },
  {
   "cell_type": "code",
   "execution_count": 75,
   "id": "6ff48a0d",
   "metadata": {},
   "outputs": [],
   "source": [
    "# plt.figure(figsize=[30,30])\n",
    "# sns.heatmap(data.iloc[:,3:].corr())"
   ]
  },
  {
   "cell_type": "code",
   "execution_count": 76,
   "id": "9ab922c7",
   "metadata": {},
   "outputs": [],
   "source": [
    "normalising_factor = (100 - data['playesjoined']/100)+1"
   ]
  },
  {
   "cell_type": "code",
   "execution_count": 77,
   "id": "1d1b9350",
   "metadata": {},
   "outputs": [],
   "source": [
    "data['killsNorm'] = data['kills'] * normalising_factor\n",
    "data['damageDealtNorm'] = data['damageDealt'] * normalising_factor\n",
    "data['maxPlaceNorm'] = data['maxPlace'] * normalising_factor\n",
    "data['matchDurationNorm'] = data['matchDuration'] * normalising_factor\n",
    "\n",
    "\n",
    "data['traveldistance'] = data['walkDistance'] + data['swimDistance'] + data['rideDistance']\n",
    "data['healsnboosts'] = data['heals'] + data['boosts']\n",
    "data['assist'] = data['assists'] + data['revives']\n",
    "data['matchType']=x\n",
    "data['bot_used']=y"
   ]
  },
  {
   "cell_type": "code",
   "execution_count": 78,
   "id": "5ab7ecef",
   "metadata": {},
   "outputs": [],
   "source": [
    "data = data.drop(columns = ['Id', 'groupId', 'matchId', 'assists', 'boosts', 'walkDistance', 'swimDistance', \n",
    "                          'rideDistance', 'heals', 'revives', 'kills', 'damageDealt', 'maxPlace', 'matchDuration'])"
   ]
  },
  {
   "cell_type": "code",
   "execution_count": 79,
   "id": "23e63afc",
   "metadata": {},
   "outputs": [
    {
     "data": {
      "text/html": [
       "<div>\n",
       "<style scoped>\n",
       "    .dataframe tbody tr th:only-of-type {\n",
       "        vertical-align: middle;\n",
       "    }\n",
       "\n",
       "    .dataframe tbody tr th {\n",
       "        vertical-align: top;\n",
       "    }\n",
       "\n",
       "    .dataframe thead th {\n",
       "        text-align: right;\n",
       "    }\n",
       "</style>\n",
       "<table border=\"1\" class=\"dataframe\">\n",
       "  <thead>\n",
       "    <tr style=\"text-align: right;\">\n",
       "      <th></th>\n",
       "      <th>DBNOs</th>\n",
       "      <th>headshotKills</th>\n",
       "      <th>killPlace</th>\n",
       "      <th>killPoints</th>\n",
       "      <th>killStreaks</th>\n",
       "      <th>longestKill</th>\n",
       "      <th>numGroups</th>\n",
       "      <th>rankPoints</th>\n",
       "      <th>roadKills</th>\n",
       "      <th>teamKills</th>\n",
       "      <th>...</th>\n",
       "      <th>headshotKills_rate</th>\n",
       "      <th>killsNorm</th>\n",
       "      <th>damageDealtNorm</th>\n",
       "      <th>maxPlaceNorm</th>\n",
       "      <th>matchDurationNorm</th>\n",
       "      <th>traveldistance</th>\n",
       "      <th>healsnboosts</th>\n",
       "      <th>assist</th>\n",
       "      <th>matchType</th>\n",
       "      <th>bot_used</th>\n",
       "    </tr>\n",
       "  </thead>\n",
       "  <tbody>\n",
       "    <tr>\n",
       "      <th>0</th>\n",
       "      <td>0</td>\n",
       "      <td>0</td>\n",
       "      <td>60</td>\n",
       "      <td>1241</td>\n",
       "      <td>0</td>\n",
       "      <td>0.00</td>\n",
       "      <td>26</td>\n",
       "      <td>-1</td>\n",
       "      <td>0</td>\n",
       "      <td>0</td>\n",
       "      <td>...</td>\n",
       "      <td>0.0</td>\n",
       "      <td>0.00</td>\n",
       "      <td>0.0000</td>\n",
       "      <td>2801.12</td>\n",
       "      <td>130652.24</td>\n",
       "      <td>244.8000</td>\n",
       "      <td>0</td>\n",
       "      <td>0</td>\n",
       "      <td>squad-fpp</td>\n",
       "      <td>False</td>\n",
       "    </tr>\n",
       "    <tr>\n",
       "      <th>1</th>\n",
       "      <td>0</td>\n",
       "      <td>0</td>\n",
       "      <td>57</td>\n",
       "      <td>0</td>\n",
       "      <td>0</td>\n",
       "      <td>0.00</td>\n",
       "      <td>25</td>\n",
       "      <td>1484</td>\n",
       "      <td>0</td>\n",
       "      <td>0</td>\n",
       "      <td>...</td>\n",
       "      <td>0.0</td>\n",
       "      <td>0.00</td>\n",
       "      <td>9155.2323</td>\n",
       "      <td>2602.34</td>\n",
       "      <td>177859.93</td>\n",
       "      <td>1445.0445</td>\n",
       "      <td>0</td>\n",
       "      <td>0</td>\n",
       "      <td>squad-fpp</td>\n",
       "      <td>False</td>\n",
       "    </tr>\n",
       "    <tr>\n",
       "      <th>2</th>\n",
       "      <td>0</td>\n",
       "      <td>0</td>\n",
       "      <td>47</td>\n",
       "      <td>0</td>\n",
       "      <td>0</td>\n",
       "      <td>0.00</td>\n",
       "      <td>47</td>\n",
       "      <td>1491</td>\n",
       "      <td>0</td>\n",
       "      <td>0</td>\n",
       "      <td>...</td>\n",
       "      <td>0.0</td>\n",
       "      <td>0.00</td>\n",
       "      <td>6801.3600</td>\n",
       "      <td>5001.00</td>\n",
       "      <td>131826.36</td>\n",
       "      <td>161.8000</td>\n",
       "      <td>0</td>\n",
       "      <td>1</td>\n",
       "      <td>duo</td>\n",
       "      <td>False</td>\n",
       "    </tr>\n",
       "    <tr>\n",
       "      <th>3</th>\n",
       "      <td>0</td>\n",
       "      <td>0</td>\n",
       "      <td>75</td>\n",
       "      <td>0</td>\n",
       "      <td>0</td>\n",
       "      <td>0.00</td>\n",
       "      <td>30</td>\n",
       "      <td>1408</td>\n",
       "      <td>0</td>\n",
       "      <td>0</td>\n",
       "      <td>...</td>\n",
       "      <td>0.0</td>\n",
       "      <td>0.00</td>\n",
       "      <td>3292.9610</td>\n",
       "      <td>3102.79</td>\n",
       "      <td>143729.24</td>\n",
       "      <td>202.7000</td>\n",
       "      <td>0</td>\n",
       "      <td>0</td>\n",
       "      <td>squad-fpp</td>\n",
       "      <td>False</td>\n",
       "    </tr>\n",
       "    <tr>\n",
       "      <th>4</th>\n",
       "      <td>0</td>\n",
       "      <td>0</td>\n",
       "      <td>45</td>\n",
       "      <td>0</td>\n",
       "      <td>1</td>\n",
       "      <td>58.53</td>\n",
       "      <td>95</td>\n",
       "      <td>1560</td>\n",
       "      <td>0</td>\n",
       "      <td>0</td>\n",
       "      <td>...</td>\n",
       "      <td>0.0</td>\n",
       "      <td>100.03</td>\n",
       "      <td>10003.0000</td>\n",
       "      <td>9702.91</td>\n",
       "      <td>142442.72</td>\n",
       "      <td>49.7500</td>\n",
       "      <td>0</td>\n",
       "      <td>0</td>\n",
       "      <td>solo-fpp</td>\n",
       "      <td>False</td>\n",
       "    </tr>\n",
       "  </tbody>\n",
       "</table>\n",
       "<p>5 rows × 26 columns</p>\n",
       "</div>"
      ],
      "text/plain": [
       "   DBNOs  headshotKills  killPlace  killPoints  killStreaks  longestKill  \\\n",
       "0      0              0         60        1241            0         0.00   \n",
       "1      0              0         57           0            0         0.00   \n",
       "2      0              0         47           0            0         0.00   \n",
       "3      0              0         75           0            0         0.00   \n",
       "4      0              0         45           0            1        58.53   \n",
       "\n",
       "   numGroups  rankPoints  roadKills  teamKills  ...  headshotKills_rate  \\\n",
       "0         26          -1          0          0  ...                 0.0   \n",
       "1         25        1484          0          0  ...                 0.0   \n",
       "2         47        1491          0          0  ...                 0.0   \n",
       "3         30        1408          0          0  ...                 0.0   \n",
       "4         95        1560          0          0  ...                 0.0   \n",
       "\n",
       "   killsNorm  damageDealtNorm  maxPlaceNorm  matchDurationNorm  \\\n",
       "0       0.00           0.0000       2801.12          130652.24   \n",
       "1       0.00        9155.2323       2602.34          177859.93   \n",
       "2       0.00        6801.3600       5001.00          131826.36   \n",
       "3       0.00        3292.9610       3102.79          143729.24   \n",
       "4     100.03       10003.0000       9702.91          142442.72   \n",
       "\n",
       "   traveldistance  healsnboosts  assist  matchType  bot_used  \n",
       "0        244.8000             0       0  squad-fpp     False  \n",
       "1       1445.0445             0       0  squad-fpp     False  \n",
       "2        161.8000             0       1        duo     False  \n",
       "3        202.7000             0       0  squad-fpp     False  \n",
       "4         49.7500             0       0   solo-fpp     False  \n",
       "\n",
       "[5 rows x 26 columns]"
      ]
     },
     "execution_count": 79,
     "metadata": {},
     "output_type": "execute_result"
    }
   ],
   "source": [
    "data.head()"
   ]
  },
  {
   "cell_type": "code",
   "execution_count": 80,
   "id": "ea4de62e",
   "metadata": {},
   "outputs": [
    {
     "name": "stdout",
     "output_type": "stream",
     "text": [
      "<class 'pandas.core.frame.DataFrame'>\n",
      "Index: 4436347 entries, 0 to 4446965\n",
      "Data columns (total 26 columns):\n",
      " #   Column              Dtype  \n",
      "---  ------              -----  \n",
      " 0   DBNOs               int64  \n",
      " 1   headshotKills       int64  \n",
      " 2   killPlace           int64  \n",
      " 3   killPoints          int64  \n",
      " 4   killStreaks         int64  \n",
      " 5   longestKill         float64\n",
      " 6   numGroups           int64  \n",
      " 7   rankPoints          int64  \n",
      " 8   roadKills           int64  \n",
      " 9   teamKills           int64  \n",
      " 10  vehicleDestroys     int64  \n",
      " 11  weaponsAcquired     int64  \n",
      " 12  winPoints           int64  \n",
      " 13  winPlacePerc        float64\n",
      " 14  playesjoined        int64  \n",
      " 15  total_walk          float64\n",
      " 16  headshotKills_rate  float64\n",
      " 17  killsNorm           float64\n",
      " 18  damageDealtNorm     float64\n",
      " 19  maxPlaceNorm        float64\n",
      " 20  matchDurationNorm   float64\n",
      " 21  traveldistance      float64\n",
      " 22  healsnboosts        int64  \n",
      " 23  assist              int64  \n",
      " 24  matchType           object \n",
      " 25  bot_used            bool   \n",
      "dtypes: bool(1), float64(9), int64(15), object(1)\n",
      "memory usage: 884.2+ MB\n"
     ]
    }
   ],
   "source": [
    "x=data.drop(['winPlacePerc'],axis=1)\n",
    "data.info()"
   ]
  },
  {
   "cell_type": "code",
   "execution_count": 81,
   "id": "a014b348",
   "metadata": {},
   "outputs": [],
   "source": [
    "y=data['winPlacePerc']\n",
    "x=pd.get_dummies(x,columns=['matchType','bot_used'])"
   ]
  },
  {
   "cell_type": "code",
   "execution_count": 83,
   "id": "fe31ccec",
   "metadata": {},
   "outputs": [
    {
     "data": {
      "text/plain": [
       "matchType\n",
       "squad-fpp           1754678\n",
       "duo-fpp              995972\n",
       "squad                625246\n",
       "solo-fpp             536181\n",
       "duo                  313171\n",
       "solo                 181443\n",
       "normal-squad-fpp      13305\n",
       "crashfpp               6274\n",
       "normal-duo-fpp         5016\n",
       "flaretpp               2497\n",
       "normal-solo-fpp         883\n",
       "flarefpp                717\n",
       "crashtpp                367\n",
       "normal-squad            321\n",
       "normal-duo              145\n",
       "normal-solo             131\n",
       "Name: count, dtype: int64"
      ]
     },
     "execution_count": 83,
     "metadata": {},
     "output_type": "execute_result"
    }
   ],
   "source": [
    "data['matchType'].value_counts()"
   ]
  },
  {
   "cell_type": "code",
   "execution_count": 84,
   "id": "45c34b0f",
   "metadata": {},
   "outputs": [
    {
     "data": {
      "text/html": [
       "<style>#sk-container-id-1 {color: black;}#sk-container-id-1 pre{padding: 0;}#sk-container-id-1 div.sk-toggleable {background-color: white;}#sk-container-id-1 label.sk-toggleable__label {cursor: pointer;display: block;width: 100%;margin-bottom: 0;padding: 0.3em;box-sizing: border-box;text-align: center;}#sk-container-id-1 label.sk-toggleable__label-arrow:before {content: \"▸\";float: left;margin-right: 0.25em;color: #696969;}#sk-container-id-1 label.sk-toggleable__label-arrow:hover:before {color: black;}#sk-container-id-1 div.sk-estimator:hover label.sk-toggleable__label-arrow:before {color: black;}#sk-container-id-1 div.sk-toggleable__content {max-height: 0;max-width: 0;overflow: hidden;text-align: left;background-color: #f0f8ff;}#sk-container-id-1 div.sk-toggleable__content pre {margin: 0.2em;color: black;border-radius: 0.25em;background-color: #f0f8ff;}#sk-container-id-1 input.sk-toggleable__control:checked~div.sk-toggleable__content {max-height: 200px;max-width: 100%;overflow: auto;}#sk-container-id-1 input.sk-toggleable__control:checked~label.sk-toggleable__label-arrow:before {content: \"▾\";}#sk-container-id-1 div.sk-estimator input.sk-toggleable__control:checked~label.sk-toggleable__label {background-color: #d4ebff;}#sk-container-id-1 div.sk-label input.sk-toggleable__control:checked~label.sk-toggleable__label {background-color: #d4ebff;}#sk-container-id-1 input.sk-hidden--visually {border: 0;clip: rect(1px 1px 1px 1px);clip: rect(1px, 1px, 1px, 1px);height: 1px;margin: -1px;overflow: hidden;padding: 0;position: absolute;width: 1px;}#sk-container-id-1 div.sk-estimator {font-family: monospace;background-color: #f0f8ff;border: 1px dotted black;border-radius: 0.25em;box-sizing: border-box;margin-bottom: 0.5em;}#sk-container-id-1 div.sk-estimator:hover {background-color: #d4ebff;}#sk-container-id-1 div.sk-parallel-item::after {content: \"\";width: 100%;border-bottom: 1px solid gray;flex-grow: 1;}#sk-container-id-1 div.sk-label:hover label.sk-toggleable__label {background-color: #d4ebff;}#sk-container-id-1 div.sk-serial::before {content: \"\";position: absolute;border-left: 1px solid gray;box-sizing: border-box;top: 0;bottom: 0;left: 50%;z-index: 0;}#sk-container-id-1 div.sk-serial {display: flex;flex-direction: column;align-items: center;background-color: white;padding-right: 0.2em;padding-left: 0.2em;position: relative;}#sk-container-id-1 div.sk-item {position: relative;z-index: 1;}#sk-container-id-1 div.sk-parallel {display: flex;align-items: stretch;justify-content: center;background-color: white;position: relative;}#sk-container-id-1 div.sk-item::before, #sk-container-id-1 div.sk-parallel-item::before {content: \"\";position: absolute;border-left: 1px solid gray;box-sizing: border-box;top: 0;bottom: 0;left: 50%;z-index: -1;}#sk-container-id-1 div.sk-parallel-item {display: flex;flex-direction: column;z-index: 1;position: relative;background-color: white;}#sk-container-id-1 div.sk-parallel-item:first-child::after {align-self: flex-end;width: 50%;}#sk-container-id-1 div.sk-parallel-item:last-child::after {align-self: flex-start;width: 50%;}#sk-container-id-1 div.sk-parallel-item:only-child::after {width: 0;}#sk-container-id-1 div.sk-dashed-wrapped {border: 1px dashed gray;margin: 0 0.4em 0.5em 0.4em;box-sizing: border-box;padding-bottom: 0.4em;background-color: white;}#sk-container-id-1 div.sk-label label {font-family: monospace;font-weight: bold;display: inline-block;line-height: 1.2em;}#sk-container-id-1 div.sk-label-container {text-align: center;}#sk-container-id-1 div.sk-container {/* jupyter's `normalize.less` sets `[hidden] { display: none; }` but bootstrap.min.css set `[hidden] { display: none !important; }` so we also need the `!important` here to be able to override the default hidden behavior on the sphinx rendered scikit-learn.org. See: https://github.com/scikit-learn/scikit-learn/issues/21755 */display: inline-block !important;position: relative;}#sk-container-id-1 div.sk-text-repr-fallback {display: none;}</style><div id=\"sk-container-id-1\" class=\"sk-top-container\"><div class=\"sk-text-repr-fallback\"><pre>StandardScaler()</pre><b>In a Jupyter environment, please rerun this cell to show the HTML representation or trust the notebook. <br />On GitHub, the HTML representation is unable to render, please try loading this page with nbviewer.org.</b></div><div class=\"sk-container\" hidden><div class=\"sk-item\"><div class=\"sk-estimator sk-toggleable\"><input class=\"sk-toggleable__control sk-hidden--visually\" id=\"sk-estimator-id-1\" type=\"checkbox\" checked><label for=\"sk-estimator-id-1\" class=\"sk-toggleable__label sk-toggleable__label-arrow\">StandardScaler</label><div class=\"sk-toggleable__content\"><pre>StandardScaler()</pre></div></div></div></div></div>"
      ],
      "text/plain": [
       "StandardScaler()"
      ]
     },
     "execution_count": 84,
     "metadata": {},
     "output_type": "execute_result"
    }
   ],
   "source": [
    "sc=StandardScaler()\n",
    "x\n"
   ]
  },
  {
   "cell_type": "code",
   "execution_count": 86,
   "id": "885ff7e1",
   "metadata": {},
   "outputs": [],
   "source": [
    "x_train,x_test,y_train,y_test=train_test_split(x,y,test_size=0.3,random_state=4)"
   ]
  },
  {
   "cell_type": "code",
   "execution_count": 89,
   "id": "69fea9a5",
   "metadata": {},
   "outputs": [],
   "source": [
    "import catboost as cb\n",
    "train_data=cb.Pool(x_train,y_train)\n",
    "test_data=cb.Pool(x_test,y_test)"
   ]
  },
  {
   "cell_type": "code",
   "execution_count": 92,
   "id": "8de0dce4",
   "metadata": {},
   "outputs": [],
   "source": [
    "model=cb.CatBoostRegressor(loss_function=\"RMSE\")\n"
   ]
  },
  {
   "cell_type": "code",
   "execution_count": 96,
   "id": "1a87e5a5",
   "metadata": {
    "scrolled": false
   },
   "outputs": [
    {
     "name": "stdout",
     "output_type": "stream",
     "text": [
      "0:\tlearn: 0.4129392\ttest: 0.4128393\tbest: 0.4128393 (0)\ttotal: 640ms\tremaining: 5.76s\n",
      "1:\tlearn: 0.3121276\ttest: 0.3121423\tbest: 0.3121423 (1)\ttotal: 1.15s\tremaining: 4.6s\n",
      "2:\tlearn: 0.2451231\ttest: 0.2452305\tbest: 0.2452305 (2)\ttotal: 1.63s\tremaining: 3.8s\n",
      "3:\tlearn: 0.2020994\ttest: 0.2022606\tbest: 0.2022606 (3)\ttotal: 2.12s\tremaining: 3.17s\n",
      "4:\tlearn: 0.1750283\ttest: 0.1752298\tbest: 0.1752298 (4)\ttotal: 2.53s\tremaining: 2.53s\n",
      "5:\tlearn: 0.1592926\ttest: 0.1595238\tbest: 0.1595238 (5)\ttotal: 3.08s\tremaining: 2.06s\n",
      "6:\tlearn: 0.1501165\ttest: 0.1503424\tbest: 0.1503424 (6)\ttotal: 3.47s\tremaining: 1.49s\n",
      "7:\tlearn: 0.1435607\ttest: 0.1438182\tbest: 0.1438182 (7)\ttotal: 3.86s\tremaining: 964ms\n",
      "8:\tlearn: 0.1396308\ttest: 0.1398817\tbest: 0.1398817 (8)\ttotal: 4.28s\tremaining: 476ms\n",
      "9:\tlearn: 0.1365129\ttest: 0.1367645\tbest: 0.1367645 (9)\ttotal: 4.8s\tremaining: 0us\n",
      "\n",
      "bestTest = 0.1367644842\n",
      "bestIteration = 9\n",
      "\n",
      "0:\tloss: 0.1367645\tbest: 0.1367645 (0)\ttotal: 10.4s\tremaining: 1m 54s\n",
      "0:\tlearn: 0.5127300\ttest: 0.5125456\tbest: 0.5125456 (0)\ttotal: 517ms\tremaining: 4.65s\n",
      "1:\tlearn: 0.4673170\ttest: 0.4671610\tbest: 0.4671610 (1)\ttotal: 1.02s\tremaining: 4.07s\n",
      "2:\tlearn: 0.4266605\ttest: 0.4265300\tbest: 0.4265300 (2)\ttotal: 1.64s\tremaining: 3.83s\n",
      "3:\tlearn: 0.3905514\ttest: 0.3904489\tbest: 0.3904489 (3)\ttotal: 2.2s\tremaining: 3.3s\n",
      "4:\tlearn: 0.3583651\ttest: 0.3583074\tbest: 0.3583074 (4)\ttotal: 2.7s\tremaining: 2.7s\n",
      "5:\tlearn: 0.3297327\ttest: 0.3296974\tbest: 0.3296974 (5)\ttotal: 3.27s\tremaining: 2.18s\n",
      "6:\tlearn: 0.3044975\ttest: 0.3044917\tbest: 0.3044917 (6)\ttotal: 3.9s\tremaining: 1.67s\n",
      "7:\tlearn: 0.2820329\ttest: 0.2820528\tbest: 0.2820528 (7)\ttotal: 4.41s\tremaining: 1.1s\n",
      "8:\tlearn: 0.2623527\ttest: 0.2624045\tbest: 0.2624045 (8)\ttotal: 5s\tremaining: 555ms\n",
      "9:\tlearn: 0.2450163\ttest: 0.2450938\tbest: 0.2450938 (9)\ttotal: 5.54s\tremaining: 0us\n",
      "\n",
      "bestTest = 0.2450938453\n",
      "bestIteration = 9\n",
      "\n",
      "1:\tloss: 0.2450938\tbest: 0.1367645 (0)\ttotal: 16.5s\tremaining: 1m 22s\n",
      "0:\tlearn: 0.4129392\ttest: 0.4128393\tbest: 0.4128393 (0)\ttotal: 623ms\tremaining: 8.72s\n",
      "1:\tlearn: 0.3121276\ttest: 0.3121423\tbest: 0.3121423 (1)\ttotal: 1.19s\tremaining: 7.76s\n",
      "2:\tlearn: 0.2451231\ttest: 0.2452305\tbest: 0.2452305 (2)\ttotal: 1.87s\tremaining: 7.5s\n",
      "3:\tlearn: 0.2020994\ttest: 0.2022606\tbest: 0.2022606 (3)\ttotal: 2.4s\tremaining: 6.61s\n",
      "4:\tlearn: 0.1750283\ttest: 0.1752298\tbest: 0.1752298 (4)\ttotal: 2.97s\tremaining: 5.95s\n",
      "5:\tlearn: 0.1592926\ttest: 0.1595238\tbest: 0.1595238 (5)\ttotal: 3.51s\tremaining: 5.26s\n",
      "6:\tlearn: 0.1501165\ttest: 0.1503424\tbest: 0.1503424 (6)\ttotal: 4.06s\tremaining: 4.64s\n",
      "7:\tlearn: 0.1435607\ttest: 0.1438182\tbest: 0.1438182 (7)\ttotal: 4.71s\tremaining: 4.12s\n",
      "8:\tlearn: 0.1396308\ttest: 0.1398817\tbest: 0.1398817 (8)\ttotal: 5.24s\tremaining: 3.49s\n",
      "9:\tlearn: 0.1365129\ttest: 0.1367645\tbest: 0.1367645 (9)\ttotal: 5.78s\tremaining: 2.89s\n",
      "10:\tlearn: 0.1340791\ttest: 0.1343311\tbest: 0.1343311 (10)\ttotal: 6.3s\tremaining: 2.29s\n",
      "11:\tlearn: 0.1320901\ttest: 0.1323381\tbest: 0.1323381 (11)\ttotal: 6.92s\tremaining: 1.73s\n",
      "12:\tlearn: 0.1305219\ttest: 0.1307627\tbest: 0.1307627 (12)\ttotal: 7.44s\tremaining: 1.14s\n",
      "13:\tlearn: 0.1290307\ttest: 0.1292670\tbest: 0.1292670 (13)\ttotal: 8.01s\tremaining: 572ms\n",
      "14:\tlearn: 0.1279023\ttest: 0.1281423\tbest: 0.1281423 (14)\ttotal: 8.51s\tremaining: 0us\n",
      "\n",
      "bestTest = 0.1281422974\n",
      "bestIteration = 14\n",
      "\n",
      "2:\tloss: 0.1281423\tbest: 0.1281423 (2)\ttotal: 25.6s\tremaining: 1m 16s\n",
      "0:\tlearn: 0.5127300\ttest: 0.5125456\tbest: 0.5125456 (0)\ttotal: 564ms\tremaining: 7.9s\n",
      "1:\tlearn: 0.4673170\ttest: 0.4671610\tbest: 0.4671610 (1)\ttotal: 1.1s\tremaining: 7.17s\n",
      "2:\tlearn: 0.4266605\ttest: 0.4265300\tbest: 0.4265300 (2)\ttotal: 1.69s\tremaining: 6.76s\n",
      "3:\tlearn: 0.3905514\ttest: 0.3904489\tbest: 0.3904489 (3)\ttotal: 2.23s\tremaining: 6.13s\n",
      "4:\tlearn: 0.3583651\ttest: 0.3583074\tbest: 0.3583074 (4)\ttotal: 2.79s\tremaining: 5.58s\n",
      "5:\tlearn: 0.3297327\ttest: 0.3296974\tbest: 0.3296974 (5)\ttotal: 3.35s\tremaining: 5.02s\n",
      "6:\tlearn: 0.3044975\ttest: 0.3044917\tbest: 0.3044917 (6)\ttotal: 3.9s\tremaining: 4.46s\n",
      "7:\tlearn: 0.2820329\ttest: 0.2820528\tbest: 0.2820528 (7)\ttotal: 4.45s\tremaining: 3.89s\n",
      "8:\tlearn: 0.2623527\ttest: 0.2624045\tbest: 0.2624045 (8)\ttotal: 4.97s\tremaining: 3.32s\n",
      "9:\tlearn: 0.2450163\ttest: 0.2450938\tbest: 0.2450938 (9)\ttotal: 5.53s\tremaining: 2.76s\n",
      "10:\tlearn: 0.2299042\ttest: 0.2300050\tbest: 0.2300050 (10)\ttotal: 6.07s\tremaining: 2.21s\n",
      "11:\tlearn: 0.2165871\ttest: 0.2167072\tbest: 0.2167072 (11)\ttotal: 6.73s\tremaining: 1.68s\n",
      "12:\tlearn: 0.2051280\ttest: 0.2052594\tbest: 0.2052594 (12)\ttotal: 7.27s\tremaining: 1.12s\n",
      "13:\tlearn: 0.1951387\ttest: 0.1952869\tbest: 0.1952869 (13)\ttotal: 7.87s\tremaining: 562ms\n",
      "14:\tlearn: 0.1864423\ttest: 0.1866061\tbest: 0.1866061 (14)\ttotal: 8.4s\tremaining: 0us\n",
      "\n",
      "bestTest = 0.1866060663\n",
      "bestIteration = 14\n",
      "\n",
      "3:\tloss: 0.1866061\tbest: 0.1281423 (2)\ttotal: 34.5s\tremaining: 1m 9s\n",
      "0:\tlearn: 0.4087917\ttest: 0.4086648\tbest: 0.4086648 (0)\ttotal: 775ms\tremaining: 6.97s\n",
      "1:\tlearn: 0.3036498\ttest: 0.3036252\tbest: 0.3036252 (1)\ttotal: 1.56s\tremaining: 6.26s\n",
      "2:\tlearn: 0.2340235\ttest: 0.2340600\tbest: 0.2340600 (2)\ttotal: 2.21s\tremaining: 5.16s\n",
      "3:\tlearn: 0.1890004\ttest: 0.1890841\tbest: 0.1890841 (3)\ttotal: 2.97s\tremaining: 4.46s\n",
      "4:\tlearn: 0.1589432\ttest: 0.1590503\tbest: 0.1590503 (4)\ttotal: 3.76s\tremaining: 3.76s\n",
      "5:\tlearn: 0.1416323\ttest: 0.1417700\tbest: 0.1417700 (5)\ttotal: 4.48s\tremaining: 2.99s\n",
      "6:\tlearn: 0.1316950\ttest: 0.1318456\tbest: 0.1318456 (6)\ttotal: 5.24s\tremaining: 2.24s\n",
      "7:\tlearn: 0.1253652\ttest: 0.1255318\tbest: 0.1255318 (7)\ttotal: 5.93s\tremaining: 1.48s\n",
      "8:\tlearn: 0.1206801\ttest: 0.1208938\tbest: 0.1208938 (8)\ttotal: 6.77s\tremaining: 752ms\n",
      "9:\tlearn: 0.1180083\ttest: 0.1182115\tbest: 0.1182115 (9)\ttotal: 7.43s\tremaining: 0us\n",
      "\n",
      "bestTest = 0.1182114519\n",
      "bestIteration = 9\n",
      "\n",
      "4:\tloss: 0.1182115\tbest: 0.1182115 (4)\ttotal: 42.5s\tremaining: 59.5s\n",
      "0:\tlearn: 0.5114903\ttest: 0.5112976\tbest: 0.5112976 (0)\ttotal: 679ms\tremaining: 6.11s\n",
      "1:\tlearn: 0.4648770\ttest: 0.4647276\tbest: 0.4647276 (1)\ttotal: 1.38s\tremaining: 5.52s\n",
      "2:\tlearn: 0.4230893\ttest: 0.4229744\tbest: 0.4229744 (2)\ttotal: 2.02s\tremaining: 4.7s\n",
      "3:\tlearn: 0.3859776\ttest: 0.3858946\tbest: 0.3858946 (3)\ttotal: 2.75s\tremaining: 4.12s\n",
      "4:\tlearn: 0.3527910\ttest: 0.3527313\tbest: 0.3527313 (4)\ttotal: 3.53s\tremaining: 3.53s\n",
      "5:\tlearn: 0.3232751\ttest: 0.3232486\tbest: 0.3232486 (5)\ttotal: 4.2s\tremaining: 2.8s\n",
      "6:\tlearn: 0.2971764\ttest: 0.2971702\tbest: 0.2971702 (6)\ttotal: 5.03s\tremaining: 2.16s\n",
      "7:\tlearn: 0.2740526\ttest: 0.2740681\tbest: 0.2740681 (7)\ttotal: 5.78s\tremaining: 1.45s\n",
      "8:\tlearn: 0.2536331\ttest: 0.2536716\tbest: 0.2536716 (8)\ttotal: 6.51s\tremaining: 723ms\n",
      "9:\tlearn: 0.2355776\ttest: 0.2356241\tbest: 0.2356241 (9)\ttotal: 7.27s\tremaining: 0us\n",
      "\n",
      "bestTest = 0.2356240966\n",
      "bestIteration = 9\n",
      "\n",
      "5:\tloss: 0.2356241\tbest: 0.1182115 (4)\ttotal: 50.2s\tremaining: 50.2s\n",
      "0:\tlearn: 0.4087917\ttest: 0.4086648\tbest: 0.4086648 (0)\ttotal: 717ms\tremaining: 10s\n",
      "1:\tlearn: 0.3036498\ttest: 0.3036252\tbest: 0.3036252 (1)\ttotal: 1.46s\tremaining: 9.48s\n",
      "2:\tlearn: 0.2340235\ttest: 0.2340600\tbest: 0.2340600 (2)\ttotal: 2.25s\tremaining: 8.99s\n",
      "3:\tlearn: 0.1890004\ttest: 0.1890841\tbest: 0.1890841 (3)\ttotal: 2.97s\tremaining: 8.16s\n",
      "4:\tlearn: 0.1589432\ttest: 0.1590503\tbest: 0.1590503 (4)\ttotal: 3.74s\tremaining: 7.48s\n",
      "5:\tlearn: 0.1416323\ttest: 0.1417700\tbest: 0.1417700 (5)\ttotal: 4.51s\tremaining: 6.76s\n",
      "6:\tlearn: 0.1316950\ttest: 0.1318456\tbest: 0.1318456 (6)\ttotal: 5.2s\tremaining: 5.94s\n",
      "7:\tlearn: 0.1253652\ttest: 0.1255318\tbest: 0.1255318 (7)\ttotal: 5.89s\tremaining: 5.16s\n",
      "8:\tlearn: 0.1206801\ttest: 0.1208938\tbest: 0.1208938 (8)\ttotal: 6.66s\tremaining: 4.44s\n",
      "9:\tlearn: 0.1180083\ttest: 0.1182115\tbest: 0.1182115 (9)\ttotal: 7.23s\tremaining: 3.62s\n",
      "10:\tlearn: 0.1163292\ttest: 0.1165276\tbest: 0.1165276 (10)\ttotal: 8.01s\tremaining: 2.91s\n",
      "11:\tlearn: 0.1149007\ttest: 0.1150890\tbest: 0.1150890 (11)\ttotal: 8.64s\tremaining: 2.16s\n",
      "12:\tlearn: 0.1123922\ttest: 0.1126002\tbest: 0.1126002 (12)\ttotal: 9.41s\tremaining: 1.45s\n",
      "13:\tlearn: 0.1108207\ttest: 0.1110293\tbest: 0.1110293 (13)\ttotal: 10.1s\tremaining: 722ms\n",
      "14:\tlearn: 0.1099603\ttest: 0.1101637\tbest: 0.1101637 (14)\ttotal: 10.9s\tremaining: 0us\n",
      "\n",
      "bestTest = 0.1101637277\n",
      "bestIteration = 14\n",
      "\n",
      "6:\tloss: 0.1101637\tbest: 0.1101637 (6)\ttotal: 1m 1s\tremaining: 43.9s\n",
      "0:\tlearn: 0.5114903\ttest: 0.5112976\tbest: 0.5112976 (0)\ttotal: 643ms\tremaining: 9s\n",
      "1:\tlearn: 0.4648770\ttest: 0.4647276\tbest: 0.4647276 (1)\ttotal: 1.39s\tremaining: 9.04s\n"
     ]
    },
    {
     "name": "stdout",
     "output_type": "stream",
     "text": [
      "2:\tlearn: 0.4230893\ttest: 0.4229744\tbest: 0.4229744 (2)\ttotal: 2.06s\tremaining: 8.25s\n",
      "3:\tlearn: 0.3859776\ttest: 0.3858946\tbest: 0.3858946 (3)\ttotal: 2.79s\tremaining: 7.67s\n",
      "4:\tlearn: 0.3527910\ttest: 0.3527313\tbest: 0.3527313 (4)\ttotal: 3.48s\tremaining: 6.97s\n",
      "5:\tlearn: 0.3232751\ttest: 0.3232486\tbest: 0.3232486 (5)\ttotal: 4.28s\tremaining: 6.42s\n",
      "6:\tlearn: 0.2971764\ttest: 0.2971702\tbest: 0.2971702 (6)\ttotal: 5.02s\tremaining: 5.74s\n",
      "7:\tlearn: 0.2740526\ttest: 0.2740681\tbest: 0.2740681 (7)\ttotal: 5.78s\tremaining: 5.06s\n",
      "8:\tlearn: 0.2536331\ttest: 0.2536716\tbest: 0.2536716 (8)\ttotal: 6.59s\tremaining: 4.39s\n",
      "9:\tlearn: 0.2355776\ttest: 0.2356241\tbest: 0.2356241 (9)\ttotal: 7.34s\tremaining: 3.67s\n",
      "10:\tlearn: 0.2197437\ttest: 0.2198014\tbest: 0.2198014 (10)\ttotal: 8.03s\tremaining: 2.92s\n",
      "11:\tlearn: 0.2058446\ttest: 0.2059132\tbest: 0.2059132 (11)\ttotal: 8.7s\tremaining: 2.17s\n",
      "12:\tlearn: 0.1934847\ttest: 0.1935650\tbest: 0.1935650 (12)\ttotal: 9.44s\tremaining: 1.45s\n",
      "13:\tlearn: 0.1823806\ttest: 0.1824607\tbest: 0.1824607 (13)\ttotal: 10.2s\tremaining: 728ms\n",
      "14:\tlearn: 0.1729845\ttest: 0.1730772\tbest: 0.1730772 (14)\ttotal: 11s\tremaining: 0us\n",
      "\n",
      "bestTest = 0.1730772338\n",
      "bestIteration = 14\n",
      "\n",
      "7:\tloss: 0.1730772\tbest: 0.1101637 (6)\ttotal: 1m 12s\tremaining: 36.5s\n",
      "0:\tlearn: 0.4068760\ttest: 0.4067564\tbest: 0.4067564 (0)\ttotal: 964ms\tremaining: 8.68s\n",
      "1:\tlearn: 0.2995395\ttest: 0.2994881\tbest: 0.2994881 (1)\ttotal: 2.07s\tremaining: 8.28s\n",
      "2:\tlearn: 0.2279358\ttest: 0.2279486\tbest: 0.2279486 (2)\ttotal: 3.02s\tremaining: 7.05s\n",
      "3:\tlearn: 0.1812147\ttest: 0.1813153\tbest: 0.1813153 (3)\ttotal: 4.16s\tremaining: 6.24s\n",
      "4:\tlearn: 0.1514351\ttest: 0.1515619\tbest: 0.1515619 (4)\ttotal: 5.31s\tremaining: 5.31s\n",
      "5:\tlearn: 0.1329330\ttest: 0.1330916\tbest: 0.1330916 (5)\ttotal: 6.23s\tremaining: 4.15s\n",
      "6:\tlearn: 0.1208234\ttest: 0.1209996\tbest: 0.1209996 (6)\ttotal: 7.17s\tremaining: 3.07s\n",
      "7:\tlearn: 0.1140816\ttest: 0.1142586\tbest: 0.1142586 (7)\ttotal: 8.21s\tremaining: 2.05s\n",
      "8:\tlearn: 0.1099626\ttest: 0.1101455\tbest: 0.1101455 (8)\ttotal: 9.12s\tremaining: 1.01s\n",
      "9:\tlearn: 0.1069997\ttest: 0.1071923\tbest: 0.1071923 (9)\ttotal: 10s\tremaining: 0us\n",
      "\n",
      "bestTest = 0.1071922526\n",
      "bestIteration = 9\n",
      "\n",
      "8:\tloss: 0.1071923\tbest: 0.1071923 (8)\ttotal: 1m 23s\tremaining: 27.8s\n",
      "0:\tlearn: 0.5109210\ttest: 0.5107313\tbest: 0.5107313 (0)\ttotal: 1.06s\tremaining: 9.58s\n",
      "1:\tlearn: 0.4637475\ttest: 0.4635880\tbest: 0.4635880 (1)\ttotal: 1.98s\tremaining: 7.91s\n",
      "2:\tlearn: 0.4214982\ttest: 0.4213805\tbest: 0.4213805 (2)\ttotal: 2.88s\tremaining: 6.71s\n",
      "3:\tlearn: 0.3835924\ttest: 0.3834930\tbest: 0.3834930 (3)\ttotal: 3.92s\tremaining: 5.87s\n",
      "4:\tlearn: 0.3497459\ttest: 0.3496670\tbest: 0.3496670 (4)\ttotal: 4.89s\tremaining: 4.89s\n",
      "5:\tlearn: 0.3195943\ttest: 0.3195339\tbest: 0.3195339 (5)\ttotal: 6.07s\tremaining: 4.05s\n",
      "6:\tlearn: 0.2927776\ttest: 0.2927428\tbest: 0.2927428 (6)\ttotal: 7.15s\tremaining: 3.07s\n",
      "7:\tlearn: 0.2688989\ttest: 0.2688880\tbest: 0.2688880 (7)\ttotal: 7.99s\tremaining: 2s\n",
      "8:\tlearn: 0.2478026\ttest: 0.2478083\tbest: 0.2478083 (8)\ttotal: 9.06s\tremaining: 1.01s\n",
      "9:\tlearn: 0.2291633\ttest: 0.2291875\tbest: 0.2291875 (9)\ttotal: 10.1s\tremaining: 0us\n",
      "\n",
      "bestTest = 0.2291875272\n",
      "bestIteration = 9\n",
      "\n",
      "9:\tloss: 0.2291875\tbest: 0.1071923 (8)\ttotal: 1m 34s\tremaining: 18.8s\n",
      "0:\tlearn: 0.4068760\ttest: 0.4067564\tbest: 0.4067564 (0)\ttotal: 910ms\tremaining: 12.7s\n",
      "1:\tlearn: 0.2995395\ttest: 0.2994881\tbest: 0.2994881 (1)\ttotal: 1.95s\tremaining: 12.7s\n",
      "2:\tlearn: 0.2279358\ttest: 0.2279486\tbest: 0.2279486 (2)\ttotal: 2.9s\tremaining: 11.6s\n",
      "3:\tlearn: 0.1812147\ttest: 0.1813153\tbest: 0.1813153 (3)\ttotal: 3.88s\tremaining: 10.7s\n",
      "4:\tlearn: 0.1514351\ttest: 0.1515619\tbest: 0.1515619 (4)\ttotal: 4.81s\tremaining: 9.61s\n",
      "5:\tlearn: 0.1329330\ttest: 0.1330916\tbest: 0.1330916 (5)\ttotal: 5.77s\tremaining: 8.66s\n",
      "6:\tlearn: 0.1208234\ttest: 0.1209996\tbest: 0.1209996 (6)\ttotal: 6.77s\tremaining: 7.74s\n",
      "7:\tlearn: 0.1140816\ttest: 0.1142586\tbest: 0.1142586 (7)\ttotal: 7.78s\tremaining: 6.81s\n",
      "8:\tlearn: 0.1099626\ttest: 0.1101455\tbest: 0.1101455 (8)\ttotal: 8.81s\tremaining: 5.88s\n",
      "9:\tlearn: 0.1069997\ttest: 0.1071923\tbest: 0.1071923 (9)\ttotal: 9.83s\tremaining: 4.91s\n",
      "10:\tlearn: 0.1035863\ttest: 0.1037530\tbest: 0.1037530 (10)\ttotal: 10.8s\tremaining: 3.94s\n",
      "11:\tlearn: 0.1019898\ttest: 0.1021496\tbest: 0.1021496 (11)\ttotal: 11.8s\tremaining: 2.94s\n",
      "12:\tlearn: 0.1004646\ttest: 0.1006351\tbest: 0.1006351 (12)\ttotal: 12.6s\tremaining: 1.94s\n",
      "13:\tlearn: 0.0991210\ttest: 0.0993143\tbest: 0.0993143 (13)\ttotal: 13.5s\tremaining: 965ms\n",
      "14:\tlearn: 0.0978101\ttest: 0.0979963\tbest: 0.0979963 (14)\ttotal: 14.5s\tremaining: 0us\n",
      "\n",
      "bestTest = 0.09799626162\n",
      "bestIteration = 14\n",
      "\n",
      "10:\tloss: 0.0979963\tbest: 0.0979963 (10)\ttotal: 1m 49s\tremaining: 9.93s\n",
      "0:\tlearn: 0.5109210\ttest: 0.5107313\tbest: 0.5107313 (0)\ttotal: 1.06s\tremaining: 14.8s\n",
      "1:\tlearn: 0.4637475\ttest: 0.4635880\tbest: 0.4635880 (1)\ttotal: 2.13s\tremaining: 13.8s\n",
      "2:\tlearn: 0.4214982\ttest: 0.4213805\tbest: 0.4213805 (2)\ttotal: 3.15s\tremaining: 12.6s\n",
      "3:\tlearn: 0.3835924\ttest: 0.3834930\tbest: 0.3834930 (3)\ttotal: 4.12s\tremaining: 11.3s\n",
      "4:\tlearn: 0.3497459\ttest: 0.3496670\tbest: 0.3496670 (4)\ttotal: 5.07s\tremaining: 10.1s\n",
      "5:\tlearn: 0.3195943\ttest: 0.3195339\tbest: 0.3195339 (5)\ttotal: 6.14s\tremaining: 9.22s\n",
      "6:\tlearn: 0.2927776\ttest: 0.2927428\tbest: 0.2927428 (6)\ttotal: 7.11s\tremaining: 8.13s\n",
      "7:\tlearn: 0.2688989\ttest: 0.2688880\tbest: 0.2688880 (7)\ttotal: 8.14s\tremaining: 7.12s\n",
      "8:\tlearn: 0.2478026\ttest: 0.2478083\tbest: 0.2478083 (8)\ttotal: 9.19s\tremaining: 6.13s\n",
      "9:\tlearn: 0.2291633\ttest: 0.2291875\tbest: 0.2291875 (9)\ttotal: 10.2s\tremaining: 5.08s\n",
      "10:\tlearn: 0.2126139\ttest: 0.2126561\tbest: 0.2126561 (10)\ttotal: 11.2s\tremaining: 4.06s\n",
      "11:\tlearn: 0.1981021\ttest: 0.1981507\tbest: 0.1981507 (11)\ttotal: 12s\tremaining: 3.01s\n",
      "12:\tlearn: 0.1853232\ttest: 0.1853796\tbest: 0.1853796 (12)\ttotal: 13.1s\tremaining: 2.01s\n",
      "13:\tlearn: 0.1740115\ttest: 0.1740877\tbest: 0.1740877 (13)\ttotal: 14.1s\tremaining: 1.01s\n",
      "14:\tlearn: 0.1642529\ttest: 0.1643370\tbest: 0.1643370 (14)\ttotal: 15.1s\tremaining: 0us\n",
      "\n",
      "bestTest = 0.1643369922\n",
      "bestIteration = 14\n",
      "\n",
      "11:\tloss: 0.1643370\tbest: 0.0979963 (10)\ttotal: 2m 4s\tremaining: 0us\n",
      "Estimating final quality...\n",
      "Training on fold [0/3]\n",
      "0:\tlearn: 0.4071808\ttest: 0.4071185\tbest: 0.4071185 (0)\ttotal: 829ms\tremaining: 11.6s\n",
      "1:\tlearn: 0.2993401\ttest: 0.2992864\tbest: 0.2992864 (1)\ttotal: 1.71s\tremaining: 11.1s\n",
      "2:\tlearn: 0.2276450\ttest: 0.2275763\tbest: 0.2275763 (2)\ttotal: 2.62s\tremaining: 10.5s\n",
      "3:\tlearn: 0.1810150\ttest: 0.1809206\tbest: 0.1809206 (3)\ttotal: 3.42s\tremaining: 9.4s\n",
      "4:\tlearn: 0.1514732\ttest: 0.1513863\tbest: 0.1513863 (4)\ttotal: 4.26s\tremaining: 8.52s\n",
      "5:\tlearn: 0.1329441\ttest: 0.1328757\tbest: 0.1328757 (5)\ttotal: 5.26s\tremaining: 7.88s\n",
      "6:\tlearn: 0.1217207\ttest: 0.1216863\tbest: 0.1216863 (6)\ttotal: 6.04s\tremaining: 6.9s\n",
      "7:\tlearn: 0.1150467\ttest: 0.1150146\tbest: 0.1150146 (7)\ttotal: 6.94s\tremaining: 6.08s\n",
      "8:\tlearn: 0.1098256\ttest: 0.1098085\tbest: 0.1098085 (8)\ttotal: 7.71s\tremaining: 5.14s\n",
      "9:\tlearn: 0.1067594\ttest: 0.1067496\tbest: 0.1067496 (9)\ttotal: 8.54s\tremaining: 4.27s\n",
      "10:\tlearn: 0.1039720\ttest: 0.1039882\tbest: 0.1039882 (10)\ttotal: 9.28s\tremaining: 3.37s\n",
      "11:\tlearn: 0.1021180\ttest: 0.1021359\tbest: 0.1021359 (11)\ttotal: 10.1s\tremaining: 2.53s\n",
      "12:\tlearn: 0.1005199\ttest: 0.1005347\tbest: 0.1005347 (12)\ttotal: 11s\tremaining: 1.69s\n",
      "13:\tlearn: 0.0991327\ttest: 0.0991517\tbest: 0.0991517 (13)\ttotal: 11.8s\tremaining: 843ms\n",
      "14:\tlearn: 0.0980757\ttest: 0.0980959\tbest: 0.0980959 (14)\ttotal: 13.2s\tremaining: 0us\n",
      "\n",
      "bestTest = 0.09809589227\n",
      "bestIteration = 14\n",
      "\n",
      "Training on fold [1/3]\n",
      "0:\tlearn: 0.4067294\ttest: 0.4068476\tbest: 0.4068476 (0)\ttotal: 992ms\tremaining: 13.9s\n",
      "1:\tlearn: 0.2999741\ttest: 0.3000510\tbest: 0.3000510 (1)\ttotal: 1.9s\tremaining: 12.4s\n",
      "2:\tlearn: 0.2275981\ttest: 0.2276288\tbest: 0.2276288 (2)\ttotal: 2.69s\tremaining: 10.7s\n",
      "3:\tlearn: 0.1810165\ttest: 0.1809961\tbest: 0.1809961 (3)\ttotal: 3.62s\tremaining: 9.95s\n",
      "4:\tlearn: 0.1513177\ttest: 0.1512556\tbest: 0.1512556 (4)\ttotal: 4.61s\tremaining: 9.22s\n",
      "5:\tlearn: 0.1334172\ttest: 0.1333482\tbest: 0.1333482 (5)\ttotal: 5.54s\tremaining: 8.31s\n",
      "6:\tlearn: 0.1220390\ttest: 0.1219274\tbest: 0.1219274 (6)\ttotal: 6.31s\tremaining: 7.21s\n",
      "7:\tlearn: 0.1150312\ttest: 0.1148942\tbest: 0.1148942 (7)\ttotal: 7.26s\tremaining: 6.35s\n",
      "8:\tlearn: 0.1111158\ttest: 0.1109613\tbest: 0.1109613 (8)\ttotal: 8.08s\tremaining: 5.39s\n",
      "9:\tlearn: 0.1064810\ttest: 0.1063522\tbest: 0.1063522 (9)\ttotal: 8.94s\tremaining: 4.47s\n"
     ]
    },
    {
     "name": "stdout",
     "output_type": "stream",
     "text": [
      "10:\tlearn: 0.1038279\ttest: 0.1036860\tbest: 0.1036860 (10)\ttotal: 9.83s\tremaining: 3.57s\n",
      "11:\tlearn: 0.1023410\ttest: 0.1021965\tbest: 0.1021965 (11)\ttotal: 10.7s\tremaining: 2.66s\n",
      "12:\tlearn: 0.1011159\ttest: 0.1009647\tbest: 0.1009647 (12)\ttotal: 11.5s\tremaining: 1.76s\n",
      "13:\tlearn: 0.0990972\ttest: 0.0989501\tbest: 0.0989501 (13)\ttotal: 12.3s\tremaining: 876ms\n",
      "14:\tlearn: 0.0981103\ttest: 0.0979633\tbest: 0.0979633 (14)\ttotal: 13.3s\tremaining: 0us\n",
      "\n",
      "bestTest = 0.09796329791\n",
      "bestIteration = 14\n",
      "\n",
      "Training on fold [2/3]\n",
      "0:\tlearn: 0.4067758\ttest: 0.4067018\tbest: 0.4067018 (0)\ttotal: 1.51s\tremaining: 21.1s\n",
      "1:\tlearn: 0.2997686\ttest: 0.2997701\tbest: 0.2997701 (1)\ttotal: 3.69s\tremaining: 24s\n",
      "2:\tlearn: 0.2272510\ttest: 0.2272508\tbest: 0.2272508 (2)\ttotal: 4.78s\tremaining: 19.1s\n",
      "3:\tlearn: 0.1808063\ttest: 0.1808385\tbest: 0.1808385 (3)\ttotal: 5.8s\tremaining: 15.9s\n",
      "4:\tlearn: 0.1505074\ttest: 0.1505996\tbest: 0.1505996 (4)\ttotal: 6.94s\tremaining: 13.9s\n",
      "5:\tlearn: 0.1317100\ttest: 0.1318449\tbest: 0.1318449 (5)\ttotal: 8.38s\tremaining: 12.6s\n",
      "6:\tlearn: 0.1208098\ttest: 0.1209808\tbest: 0.1209808 (6)\ttotal: 9.46s\tremaining: 10.8s\n",
      "7:\tlearn: 0.1135493\ttest: 0.1137419\tbest: 0.1137419 (7)\ttotal: 10.7s\tremaining: 9.36s\n",
      "8:\tlearn: 0.1084778\ttest: 0.1086470\tbest: 0.1086470 (8)\ttotal: 11.7s\tremaining: 7.83s\n",
      "9:\tlearn: 0.1055592\ttest: 0.1057369\tbest: 0.1057369 (9)\ttotal: 12.6s\tremaining: 6.3s\n",
      "10:\tlearn: 0.1035336\ttest: 0.1037064\tbest: 0.1037064 (10)\ttotal: 13.5s\tremaining: 4.9s\n",
      "11:\tlearn: 0.1016844\ttest: 0.1018666\tbest: 0.1018666 (11)\ttotal: 14.4s\tremaining: 3.59s\n",
      "12:\tlearn: 0.1002266\ttest: 0.1004136\tbest: 0.1004136 (12)\ttotal: 15.2s\tremaining: 2.34s\n",
      "13:\tlearn: 0.0987574\ttest: 0.0989390\tbest: 0.0989390 (13)\ttotal: 15.9s\tremaining: 1.14s\n",
      "14:\tlearn: 0.0976802\ttest: 0.0978569\tbest: 0.0978569 (14)\ttotal: 17.1s\tremaining: 0us\n",
      "\n",
      "bestTest = 0.0978568892\n",
      "bestIteration = 14\n",
      "\n"
     ]
    },
    {
     "data": {
      "text/plain": [
       "{'params': {'depth': 6, 'learning_rate': 0.3, 'iterations': 15},\n",
       " 'cv_results': defaultdict(list,\n",
       "             {'iterations': [0, 1, 2, 3, 4, 5, 6, 7, 8, 9, 10, 11, 12, 13, 14],\n",
       "              'test-RMSE-mean': [0.40688928329105223,\n",
       "               0.29970250572643,\n",
       "               0.22748528620245592,\n",
       "               0.18091838188290033,\n",
       "               0.15108052948959916,\n",
       "               0.13268962280459087,\n",
       "               0.12153151782108036,\n",
       "               0.11455022239845795,\n",
       "               0.1098055750647921,\n",
       "               0.10627957339380735,\n",
       "               0.10379353625917698,\n",
       "               0.1020663363301525,\n",
       "               0.10063768146540446,\n",
       "               0.09901358620262836,\n",
       "               0.09797202646035687],\n",
       "              'test-RMSE-std': [0.0002114787750422196,\n",
       "               0.0003867496741427495,\n",
       "               0.0002047870241017729,\n",
       "               7.881166794925237e-05,\n",
       "               0.0004215596345984817,\n",
       "               0.0007687219204405518,\n",
       "               0.0004918957236158089,\n",
       "               0.0007026232738826392,\n",
       "               0.0011571590231430843,\n",
       "               0.0005102109660419846,\n",
       "               0.00016890630769645122,\n",
       "               0.00017560754684145326,\n",
       "               0.0002895997602421447,\n",
       "               0.00011972219494851137,\n",
       "               0.00011974037617647124],\n",
       "              'train-RMSE-mean': [0.4068953560440722,\n",
       "               0.2996942938449365,\n",
       "               0.22749802931007612,\n",
       "               0.18094592582863941,\n",
       "               0.15109940256902188,\n",
       "               0.13269044664408136,\n",
       "               0.12152315725561302,\n",
       "               0.11454240211120399,\n",
       "               0.10980637456244935,\n",
       "               0.10626654768493525,\n",
       "               0.10377781767457749,\n",
       "               0.10204780588459962,\n",
       "               0.10062081473614427,\n",
       "               0.09899579702762594,\n",
       "               0.09795540993550134],\n",
       "              'train-RMSE-std': [0.0002483223302727602,\n",
       "               0.00032348916431573516,\n",
       "               0.00021522888086933926,\n",
       "               0.00012093318422161548,\n",
       "               0.0005185883525122983,\n",
       "               0.0008814041868763949,\n",
       "               0.0006379905994285696,\n",
       "               0.0008600528254188527,\n",
       "               0.0013190947860450611,\n",
       "               0.0006281904634974463,\n",
       "               0.0002234212606857574,\n",
       "               0.0003338482014620757,\n",
       "               0.00045313884103720034,\n",
       "               0.00020718971419103567,\n",
       "               0.0002389790543465611]})}"
      ]
     },
     "execution_count": 96,
     "metadata": {},
     "output_type": "execute_result"
    }
   ],
   "source": [
    "grid={\"iterations\":[10,15],\n",
    "     \"learning_rate\":[0.3,0.1],\n",
    "     \"depth\":[2,4,6]}\n",
    "model.grid_search(grid,train_data)"
   ]
  },
  {
   "cell_type": "code",
   "execution_count": 97,
   "id": "f4562e74",
   "metadata": {
    "scrolled": false
   },
   "outputs": [],
   "source": [
    "pred=model.predict(x_test)"
   ]
  },
  {
   "cell_type": "code",
   "execution_count": 101,
   "id": "700e87fa",
   "metadata": {},
   "outputs": [
    {
     "name": "stdout",
     "output_type": "stream",
     "text": [
      "Testing performance\n",
      "RMSE: 0.10\n",
      "R2: 0.90\n"
     ]
    }
   ],
   "source": [
    "from sklearn.metrics import r2_score\n",
    "rmse = np.sqrt(mean_squared_error(y_test, pred))\n",
    "r2 = r2_score(y_test, pred)\n",
    "\n",
    "print(\"Testing performance\")\n",
    "\n",
    "print(\"RMSE: {:.2f}\".format(rmse))\n",
    "print(\"R2: {:.2f}\".format(r2))"
   ]
  }
 ],
 "metadata": {
  "kernelspec": {
   "display_name": "Python 3 (ipykernel)",
   "language": "python",
   "name": "python3"
  },
  "language_info": {
   "codemirror_mode": {
    "name": "ipython",
    "version": 3
   },
   "file_extension": ".py",
   "mimetype": "text/x-python",
   "name": "python",
   "nbconvert_exporter": "python",
   "pygments_lexer": "ipython3",
   "version": "3.11.5"
  }
 },
 "nbformat": 4,
 "nbformat_minor": 5
}
