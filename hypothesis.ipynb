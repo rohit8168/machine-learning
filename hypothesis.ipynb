{
 "cells": [
  {
   "cell_type": "code",
   "execution_count": 6,
   "id": "9f4469d0",
   "metadata": {},
   "outputs": [],
   "source": [
    "def initialize_hypothesis(attributes):\n",
    "    hypothesis={}\n",
    "    for attribute in attributes:\n",
    "        hypothesis[attribute]='null'\n",
    "    return hypothesis"
   ]
  },
  {
   "cell_type": "code",
   "execution_count": 7,
   "id": "0a3cdde8",
   "metadata": {},
   "outputs": [],
   "source": [
    "def update_hypothesis(hypothesis,example):\n",
    "    for attribute, value in example.items():\n",
    "        if hypothesis[attribute]=='null':\n",
    "            hypothesis[attribute]=value\n",
    "        elif hypothesis[attribute] != value:\n",
    "            hypothesis[attribute] = '?'\n",
    "    return hypothesis"
   ]
  },
  {
   "cell_type": "code",
   "execution_count": 8,
   "id": "67593e7e",
   "metadata": {},
   "outputs": [],
   "source": [
    "def find_s(training_data):\n",
    "    attributes = list(training_data[0].keys())\n",
    "    hypothesis = initialize_hypothesis(attributes)\n",
    "    \n",
    "    for example in training_data:\n",
    "        if example['target']=='cat':\n",
    "            hypothesis = update_hypothesis(hypothesis,example)\n",
    "            \n",
    "    return hypothesis"
   ]
  },
  {
   "cell_type": "code",
   "execution_count": 9,
   "id": "14a61df6",
   "metadata": {},
   "outputs": [],
   "source": [
    "#     {'color':brown,'tail':yes,size ,tail ,target}\n",
    "training_data=[\n",
    "    {'color':'brown','tail':'yes','size':'long' ,'target':'cat'},\n",
    "    { 'color':'black','tail':'yes','size':'small','target':'cat'},\n",
    "    { 'color':'orange','tail':'no','size':'none','target':'non_cat'},\n",
    "    { 'color':'pink','tail':'yes','size':'small','target':'non_cat'},  \n",
    "]"
   ]
  },
  {
   "cell_type": "code",
   "execution_count": 10,
   "id": "f461ae74",
   "metadata": {},
   "outputs": [
    {
     "name": "stdout",
     "output_type": "stream",
     "text": [
      "Learned Hypothesis: {'color': '?', 'tail': 'yes', 'size': '?', 'target': 'cat'}\n"
     ]
    }
   ],
   "source": [
    "learned_hypothesis = find_s(training_data)\n",
    "print(\"Learned Hypothesis:\",learned_hypothesis)"
   ]
  }
 ],
 "metadata": {
  "kernelspec": {
   "display_name": "Python 3 (ipykernel)",
   "language": "python",
   "name": "python3"
  },
  "language_info": {
   "codemirror_mode": {
    "name": "ipython",
    "version": 3
   },
   "file_extension": ".py",
   "mimetype": "text/x-python",
   "name": "python",
   "nbconvert_exporter": "python",
   "pygments_lexer": "ipython3",
   "version": "3.10.9"
  }
 },
 "nbformat": 4,
 "nbformat_minor": 5
}
