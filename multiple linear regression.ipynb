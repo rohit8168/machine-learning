{
 "cells": [
  {
   "cell_type": "code",
   "execution_count": 6,
   "id": "691f28cf",
   "metadata": {},
   "outputs": [],
   "source": [
    "import pandas as pd\n",
    "import numpy as np\n",
    "from sklearn.model_selection import train_test_split\n",
    "import matplotlib.pyplot as plt"
   ]
  },
  {
   "cell_type": "code",
   "execution_count": 7,
   "id": "d449bf65",
   "metadata": {},
   "outputs": [
    {
     "data": {
      "text/plain": [
       "Feature 1    0\n",
       "Feature 2    0\n",
       "Feature 3    0\n",
       "Target       0\n",
       "dtype: int64"
      ]
     },
     "execution_count": 7,
     "metadata": {},
     "output_type": "execute_result"
    }
   ],
   "source": [
    "data=pd.read_csv(r\"C:\\ml\\da\\multiple_linear_regression.csv\")\n",
    "data.isna().sum()"
   ]
  },
  {
   "cell_type": "code",
   "execution_count": 8,
   "id": "e2612d5e",
   "metadata": {},
   "outputs": [
    {
     "data": {
      "text/html": [
       "<div>\n",
       "<style scoped>\n",
       "    .dataframe tbody tr th:only-of-type {\n",
       "        vertical-align: middle;\n",
       "    }\n",
       "\n",
       "    .dataframe tbody tr th {\n",
       "        vertical-align: top;\n",
       "    }\n",
       "\n",
       "    .dataframe thead th {\n",
       "        text-align: right;\n",
       "    }\n",
       "</style>\n",
       "<table border=\"1\" class=\"dataframe\">\n",
       "  <thead>\n",
       "    <tr style=\"text-align: right;\">\n",
       "      <th></th>\n",
       "      <th>Feature 1</th>\n",
       "      <th>Feature 2</th>\n",
       "      <th>Feature 3</th>\n",
       "      <th>Target</th>\n",
       "    </tr>\n",
       "  </thead>\n",
       "  <tbody>\n",
       "    <tr>\n",
       "      <th>0</th>\n",
       "      <td>230.1</td>\n",
       "      <td>37.8</td>\n",
       "      <td>69.2</td>\n",
       "      <td>22.1</td>\n",
       "    </tr>\n",
       "    <tr>\n",
       "      <th>1</th>\n",
       "      <td>44.5</td>\n",
       "      <td>39.3</td>\n",
       "      <td>45.1</td>\n",
       "      <td>10.4</td>\n",
       "    </tr>\n",
       "    <tr>\n",
       "      <th>2</th>\n",
       "      <td>17.2</td>\n",
       "      <td>45.9</td>\n",
       "      <td>69.3</td>\n",
       "      <td>9.3</td>\n",
       "    </tr>\n",
       "    <tr>\n",
       "      <th>3</th>\n",
       "      <td>151.5</td>\n",
       "      <td>41.3</td>\n",
       "      <td>58.5</td>\n",
       "      <td>18.5</td>\n",
       "    </tr>\n",
       "    <tr>\n",
       "      <th>4</th>\n",
       "      <td>180.8</td>\n",
       "      <td>10.8</td>\n",
       "      <td>58.4</td>\n",
       "      <td>12.9</td>\n",
       "    </tr>\n",
       "  </tbody>\n",
       "</table>\n",
       "</div>"
      ],
      "text/plain": [
       "   Feature 1  Feature 2  Feature 3  Target\n",
       "0      230.1       37.8       69.2    22.1\n",
       "1       44.5       39.3       45.1    10.4\n",
       "2       17.2       45.9       69.3     9.3\n",
       "3      151.5       41.3       58.5    18.5\n",
       "4      180.8       10.8       58.4    12.9"
      ]
     },
     "execution_count": 8,
     "metadata": {},
     "output_type": "execute_result"
    }
   ],
   "source": [
    "data.head()"
   ]
  },
  {
   "cell_type": "code",
   "execution_count": 9,
   "id": "3fb7da1a",
   "metadata": {},
   "outputs": [],
   "source": [
    "x=data.iloc[:,data.columns!=\"Target\"]#input\n",
    "y=data.Target#output"
   ]
  },
  {
   "cell_type": "code",
   "execution_count": 10,
   "id": "a9115d44",
   "metadata": {},
   "outputs": [
    {
     "data": {
      "text/html": [
       "<div>\n",
       "<style scoped>\n",
       "    .dataframe tbody tr th:only-of-type {\n",
       "        vertical-align: middle;\n",
       "    }\n",
       "\n",
       "    .dataframe tbody tr th {\n",
       "        vertical-align: top;\n",
       "    }\n",
       "\n",
       "    .dataframe thead th {\n",
       "        text-align: right;\n",
       "    }\n",
       "</style>\n",
       "<table border=\"1\" class=\"dataframe\">\n",
       "  <thead>\n",
       "    <tr style=\"text-align: right;\">\n",
       "      <th></th>\n",
       "      <th>Feature 1</th>\n",
       "      <th>Feature 2</th>\n",
       "      <th>Feature 3</th>\n",
       "    </tr>\n",
       "  </thead>\n",
       "  <tbody>\n",
       "    <tr>\n",
       "      <th>124</th>\n",
       "      <td>229.5</td>\n",
       "      <td>32.3</td>\n",
       "      <td>74.2</td>\n",
       "    </tr>\n",
       "    <tr>\n",
       "      <th>157</th>\n",
       "      <td>149.8</td>\n",
       "      <td>1.3</td>\n",
       "      <td>24.3</td>\n",
       "    </tr>\n",
       "    <tr>\n",
       "      <th>179</th>\n",
       "      <td>165.6</td>\n",
       "      <td>10.0</td>\n",
       "      <td>17.6</td>\n",
       "    </tr>\n",
       "    <tr>\n",
       "      <th>80</th>\n",
       "      <td>76.4</td>\n",
       "      <td>26.7</td>\n",
       "      <td>22.3</td>\n",
       "    </tr>\n",
       "    <tr>\n",
       "      <th>68</th>\n",
       "      <td>237.4</td>\n",
       "      <td>27.5</td>\n",
       "      <td>11.0</td>\n",
       "    </tr>\n",
       "    <tr>\n",
       "      <th>...</th>\n",
       "      <td>...</td>\n",
       "      <td>...</td>\n",
       "      <td>...</td>\n",
       "    </tr>\n",
       "    <tr>\n",
       "      <th>85</th>\n",
       "      <td>193.2</td>\n",
       "      <td>18.4</td>\n",
       "      <td>65.7</td>\n",
       "    </tr>\n",
       "    <tr>\n",
       "      <th>35</th>\n",
       "      <td>290.7</td>\n",
       "      <td>4.1</td>\n",
       "      <td>8.5</td>\n",
       "    </tr>\n",
       "    <tr>\n",
       "      <th>89</th>\n",
       "      <td>109.8</td>\n",
       "      <td>47.8</td>\n",
       "      <td>51.4</td>\n",
       "    </tr>\n",
       "    <tr>\n",
       "      <th>103</th>\n",
       "      <td>187.9</td>\n",
       "      <td>17.2</td>\n",
       "      <td>17.9</td>\n",
       "    </tr>\n",
       "    <tr>\n",
       "      <th>14</th>\n",
       "      <td>204.1</td>\n",
       "      <td>32.9</td>\n",
       "      <td>46.0</td>\n",
       "    </tr>\n",
       "  </tbody>\n",
       "</table>\n",
       "<p>140 rows × 3 columns</p>\n",
       "</div>"
      ],
      "text/plain": [
       "     Feature 1  Feature 2  Feature 3\n",
       "124      229.5       32.3       74.2\n",
       "157      149.8        1.3       24.3\n",
       "179      165.6       10.0       17.6\n",
       "80        76.4       26.7       22.3\n",
       "68       237.4       27.5       11.0\n",
       "..         ...        ...        ...\n",
       "85       193.2       18.4       65.7\n",
       "35       290.7        4.1        8.5\n",
       "89       109.8       47.8       51.4\n",
       "103      187.9       17.2       17.9\n",
       "14       204.1       32.9       46.0\n",
       "\n",
       "[140 rows x 3 columns]"
      ]
     },
     "execution_count": 10,
     "metadata": {},
     "output_type": "execute_result"
    }
   ],
   "source": [
    "x_train,x_test,y_train,y_test=train_test_split(x,y,test_size=0.30)\n",
    "x_train"
   ]
  },
  {
   "cell_type": "code",
   "execution_count": 11,
   "id": "aa04ae9b",
   "metadata": {},
   "outputs": [
    {
     "data": {
      "text/plain": [
       "array([ 0.04484225,  0.1932951 , -0.00502376])"
      ]
     },
     "execution_count": 11,
     "metadata": {},
     "output_type": "execute_result"
    }
   ],
   "source": [
    "from sklearn.linear_model import LinearRegression \n",
    "lr=LinearRegression()\n",
    "lr.fit(x_train,y_train)\n",
    "lr.coef_"
   ]
  },
  {
   "cell_type": "code",
   "execution_count": 12,
   "id": "43d1bdb7",
   "metadata": {},
   "outputs": [
    {
     "data": {
      "text/plain": [
       "3.2353266762109048"
      ]
     },
     "execution_count": 12,
     "metadata": {},
     "output_type": "execute_result"
    }
   ],
   "source": [
    "lr.intercept_"
   ]
  },
  {
   "cell_type": "code",
   "execution_count": 13,
   "id": "2556c2bd",
   "metadata": {},
   "outputs": [],
   "source": [
    "predict=lr.predict(x_test)"
   ]
  },
  {
   "cell_type": "code",
   "execution_count": 14,
   "id": "b5dac765",
   "metadata": {},
   "outputs": [
    {
     "data": {
      "text/plain": [
       "4.84035376381934"
      ]
     },
     "execution_count": 14,
     "metadata": {},
     "output_type": "execute_result"
    }
   ],
   "source": [
    "from sklearn.metrics import mean_squared_error\n",
    "cost=mean_squared_error(predict,y_test)\n",
    "cost"
   ]
  },
  {
   "cell_type": "code",
   "execution_count": 15,
   "id": "3b0b79a5",
   "metadata": {},
   "outputs": [
    {
     "data": {
      "text/plain": [
       "Text(0, 0.5, 'output')"
      ]
     },
     "execution_count": 15,
     "metadata": {},
     "output_type": "execute_result"
    },
    {
     "data": {
      "image/png": "[encoded data removed]",
      "text/plain": [
       "<Figure size 640x480 with 1 Axes>"
      ]
     },
     "metadata": {},
     "output_type": "display_data"
    }
   ],
   "source": [
    "plt.plot(x_test,predict,\"+\",color=\"orange\")\n",
    "plt.plot(x_test,y_test,\"*\",color=\"blue\")\n",
    "plt.xlabel(\"input\")\n",
    "plt.ylabel(\"output\")"
   ]
  },
  {
   "cell_type": "code",
   "execution_count": 16,
   "id": "4dcf4979",
   "metadata": {},
   "outputs": [],
   "source": [
    "residuals=y_test-predict"
   ]
  },
  {
   "cell_type": "code",
   "execution_count": 17,
   "id": "62d356fe",
   "metadata": {},
   "outputs": [
    {
     "data": {
      "text/plain": [
       "Text(0, 0.5, 'y_predicted')"
      ]
     },
     "execution_count": 17,
     "metadata": {},
     "output_type": "execute_result"
    },
    {
     "data": {
      "image/png": "[encoded data removed]",
      "text/plain": [
       "<Figure size 640x480 with 1 Axes>"
      ]
     },
     "metadata": {},
     "output_type": "display_data"
    }
   ],
   "source": [
    "plt.scatter(residuals,predict)\n",
    "plt.xlabel('residuals')\n",
    "plt.ylabel(\"y_predicted\")"
   ]
  },
  {
   "cell_type": "code",
   "execution_count": 18,
   "id": "8ae8d0fb",
   "metadata": {},
   "outputs": [
    {
     "name": "stderr",
     "output_type": "stream",
     "text": [
      "C:\\Users\\preeti\\AppData\\Local\\Temp\\ipykernel_12032\\1841234233.py:2: UserWarning: \n",
      "\n",
      "`distplot` is a deprecated function and will be removed in seaborn v0.14.0.\n",
      "\n",
      "Please adapt your code to use either `displot` (a figure-level function with\n",
      "similar flexibility) or `histplot` (an axes-level function for histograms).\n",
      "\n",
      "For a guide to updating your code to use the new functions, please see\n",
      "https://gist.github.com/mwaskom/de44147ed2974457ad6372750bbe5751\n",
      "\n",
      "  sns.distplot(residuals)\n"
     ]
    },
    {
     "data": {
      "text/plain": [
       "<Axes: xlabel='Target', ylabel='Density'>"
      ]
     },
     "execution_count": 18,
     "metadata": {},
     "output_type": "execute_result"
    },
    {
     "data": {
      "image/png": "[encoded data removed]",
      "text/plain": [
       "<Figure size 640x480 with 1 Axes>"
      ]
     },
     "metadata": {},
     "output_type": "display_data"
    }
   ],
   "source": [
    "import seaborn as sns\n",
    "sns.distplot(residuals)"
   ]
  },
  {
   "cell_type": "markdown",
   "id": "ff71577c",
   "metadata": {},
   "source": [
    "<h1>OLS"
   ]
  },
  {
   "cell_type": "code",
   "execution_count": 19,
   "id": "15067aed",
   "metadata": {},
   "outputs": [],
   "source": [
    "import statsmodels.api as sm"
   ]
  },
  {
   "cell_type": "code",
   "execution_count": 21,
   "id": "645a85f5",
   "metadata": {},
   "outputs": [
    {
     "data": {
      "text/html": [
       "<div>\n",
       "<style scoped>\n",
       "    .dataframe tbody tr th:only-of-type {\n",
       "        vertical-align: middle;\n",
       "    }\n",
       "\n",
       "    .dataframe tbody tr th {\n",
       "        vertical-align: top;\n",
       "    }\n",
       "\n",
       "    .dataframe thead th {\n",
       "        text-align: right;\n",
       "    }\n",
       "</style>\n",
       "<table border=\"1\" class=\"dataframe\">\n",
       "  <thead>\n",
       "    <tr style=\"text-align: right;\">\n",
       "      <th></th>\n",
       "      <th>const</th>\n",
       "      <th>Feature 1</th>\n",
       "      <th>Feature 2</th>\n",
       "      <th>Feature 3</th>\n",
       "    </tr>\n",
       "  </thead>\n",
       "  <tbody>\n",
       "    <tr>\n",
       "      <th>124</th>\n",
       "      <td>1.0</td>\n",
       "      <td>229.5</td>\n",
       "      <td>32.3</td>\n",
       "      <td>74.2</td>\n",
       "    </tr>\n",
       "    <tr>\n",
       "      <th>157</th>\n",
       "      <td>1.0</td>\n",
       "      <td>149.8</td>\n",
       "      <td>1.3</td>\n",
       "      <td>24.3</td>\n",
       "    </tr>\n",
       "    <tr>\n",
       "      <th>179</th>\n",
       "      <td>1.0</td>\n",
       "      <td>165.6</td>\n",
       "      <td>10.0</td>\n",
       "      <td>17.6</td>\n",
       "    </tr>\n",
       "    <tr>\n",
       "      <th>80</th>\n",
       "      <td>1.0</td>\n",
       "      <td>76.4</td>\n",
       "      <td>26.7</td>\n",
       "      <td>22.3</td>\n",
       "    </tr>\n",
       "    <tr>\n",
       "      <th>68</th>\n",
       "      <td>1.0</td>\n",
       "      <td>237.4</td>\n",
       "      <td>27.5</td>\n",
       "      <td>11.0</td>\n",
       "    </tr>\n",
       "    <tr>\n",
       "      <th>...</th>\n",
       "      <td>...</td>\n",
       "      <td>...</td>\n",
       "      <td>...</td>\n",
       "      <td>...</td>\n",
       "    </tr>\n",
       "    <tr>\n",
       "      <th>85</th>\n",
       "      <td>1.0</td>\n",
       "      <td>193.2</td>\n",
       "      <td>18.4</td>\n",
       "      <td>65.7</td>\n",
       "    </tr>\n",
       "    <tr>\n",
       "      <th>35</th>\n",
       "      <td>1.0</td>\n",
       "      <td>290.7</td>\n",
       "      <td>4.1</td>\n",
       "      <td>8.5</td>\n",
       "    </tr>\n",
       "    <tr>\n",
       "      <th>89</th>\n",
       "      <td>1.0</td>\n",
       "      <td>109.8</td>\n",
       "      <td>47.8</td>\n",
       "      <td>51.4</td>\n",
       "    </tr>\n",
       "    <tr>\n",
       "      <th>103</th>\n",
       "      <td>1.0</td>\n",
       "      <td>187.9</td>\n",
       "      <td>17.2</td>\n",
       "      <td>17.9</td>\n",
       "    </tr>\n",
       "    <tr>\n",
       "      <th>14</th>\n",
       "      <td>1.0</td>\n",
       "      <td>204.1</td>\n",
       "      <td>32.9</td>\n",
       "      <td>46.0</td>\n",
       "    </tr>\n",
       "  </tbody>\n",
       "</table>\n",
       "<p>140 rows × 4 columns</p>\n",
       "</div>"
      ],
      "text/plain": [
       "     const  Feature 1  Feature 2  Feature 3\n",
       "124    1.0      229.5       32.3       74.2\n",
       "157    1.0      149.8        1.3       24.3\n",
       "179    1.0      165.6       10.0       17.6\n",
       "80     1.0       76.4       26.7       22.3\n",
       "68     1.0      237.4       27.5       11.0\n",
       "..     ...        ...        ...        ...\n",
       "85     1.0      193.2       18.4       65.7\n",
       "35     1.0      290.7        4.1        8.5\n",
       "89     1.0      109.8       47.8       51.4\n",
       "103    1.0      187.9       17.2       17.9\n",
       "14     1.0      204.1       32.9       46.0\n",
       "\n",
       "[140 rows x 4 columns]"
      ]
     },
     "execution_count": 21,
     "metadata": {},
     "output_type": "execute_result"
    }
   ],
   "source": [
    "x_with_constant=sm.add_constant(x_train)\n",
    "x_with_constant"
   ]
  },
  {
   "cell_type": "code",
   "execution_count": 24,
   "id": "78f2e820",
   "metadata": {},
   "outputs": [],
   "source": [
    "model=sm.OLS(y_train,x_with_constant)\n"
   ]
  },
  {
   "cell_type": "code",
   "execution_count": 26,
   "id": "60ed46a6",
   "metadata": {},
   "outputs": [],
   "source": [
    "result=model.fit()"
   ]
  },
  {
   "cell_type": "code",
   "execution_count": 28,
   "id": "07a2ad6c",
   "metadata": {},
   "outputs": [
    {
     "data": {
      "text/plain": [
       "const        3.235327\n",
       "Feature 1    0.044842\n",
       "Feature 2    0.193295\n",
       "Feature 3   -0.005024\n",
       "dtype: float64"
      ]
     },
     "execution_count": 28,
     "metadata": {},
     "output_type": "execute_result"
    }
   ],
   "source": [
    "result.params"
   ]
  },
  {
   "cell_type": "code",
   "execution_count": 30,
   "id": "826ffc14",
   "metadata": {},
   "outputs": [
    {
     "name": "stdout",
     "output_type": "stream",
     "text": [
      "                            OLS Regression Results                            \n",
      "==============================================================================\n",
      "Dep. Variable:                 Target   R-squared:                       0.922\n",
      "Model:                            OLS   Adj. R-squared:                  0.920\n",
      "Method:                 Least Squares   F-statistic:                     534.2\n",
      "Date:                Thu, 09 Nov 2023   Prob (F-statistic):           5.03e-75\n",
      "Time:                        22:36:59   Log-Likelihood:                -245.61\n",
      "No. Observations:                 140   AIC:                             499.2\n",
      "Df Residuals:                     136   BIC:                             511.0\n",
      "Df Model:                           3                                         \n",
      "Covariance Type:            nonrobust                                         \n",
      "==============================================================================\n",
      "                 coef    std err          t      P>|t|      [0.025      0.975]\n",
      "------------------------------------------------------------------------------\n",
      "const          3.2353      0.323     10.003      0.000       2.596       3.875\n",
      "Feature 1      0.0448      0.001     29.997      0.000       0.042       0.048\n",
      "Feature 2      0.1933      0.009     22.152      0.000       0.176       0.211\n",
      "Feature 3     -0.0050      0.006     -0.857      0.393      -0.017       0.007\n",
      "==============================================================================\n",
      "Omnibus:                       12.066   Durbin-Watson:                   1.951\n",
      "Prob(Omnibus):                  0.002   Jarque-Bera (JB):               12.782\n",
      "Skew:                          -0.729   Prob(JB):                      0.00168\n",
      "Kurtosis:                       3.258   Cond. No.                         471.\n",
      "==============================================================================\n",
      "\n",
      "Notes:\n",
      "[1] Standard Errors assume that the covariance matrix of the errors is correctly specified.\n"
     ]
    }
   ],
   "source": [
    "print(result.summary())"
   ]
  }
 ],
 "metadata": {
  "kernelspec": {
   "display_name": "Python 3 (ipykernel)",
   "language": "python",
   "name": "python3"
  },
  "language_info": {
   "codemirror_mode": {
    "name": "ipython",
    "version": 3
   },
   "file_extension": ".py",
   "mimetype": "text/x-python",
   "name": "python",
   "nbconvert_exporter": "python",
   "pygments_lexer": "ipython3",
   "version": "3.10.9"
  }
 },
 "nbformat": 4,
 "nbformat_minor": 5
}
